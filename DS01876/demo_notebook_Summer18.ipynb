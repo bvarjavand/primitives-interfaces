{
 "cells": [
  {
   "cell_type": "code",
   "execution_count": 8,
   "metadata": {
    "collapsed": true
   },
   "outputs": [],
   "source": [
    "import jhu_primitives\n",
    "#import json\n",
    "#import networkx as nx\n",
    "from d3m.container import pandas as pd\n",
    "from d3m.container import dataset as ds\n",
    "from urllib import parse as url_parse\n",
    "import os"
   ]
  },
  {
   "cell_type": "code",
   "execution_count": 9,
   "metadata": {},
   "outputs": [
    {
     "data": {
      "text/plain": [
       "'Users\\\\Hayden\\\\Desktop\\\\Research\\\\d3m\\\\personal\\\\some_datasets\\\\datasets\\\\seed_datasets_current\\\\DS01876'"
      ]
     },
     "execution_count": 9,
     "metadata": {},
     "output_type": "execute_result"
    }
   ],
   "source": [
    "dataset_file_path = os.path.abspath(os.getcwd())\n",
    "abs_file_path = dataset_file_path.split(':')[1]\n",
    "abs_file_path = abs_file_path[1:]\n",
    "abs_file_path"
   ]
  },
  {
   "cell_type": "code",
   "execution_count": 10,
   "metadata": {
    "collapsed": true
   },
   "outputs": [],
   "source": [
    "try:\n",
    "    splits = abs_file_path.split('\\\\')\n",
    "    s = \"\"\n",
    "    data_folder = splits[-1]\n",
    "    for i in splits:\n",
    "        if i != \"\":\n",
    "            s += \"/\" + i\n",
    "except:\n",
    "    s = abs_file_path\n",
    "\n",
    "dataset_uri = \"file://localhost\" + s"
   ]
  },
  {
   "cell_type": "code",
   "execution_count": 11,
   "metadata": {},
   "outputs": [
    {
     "data": {
      "text/plain": [
       "'file://localhost/Users/Hayden/Desktop/Research/d3m/personal/some_datasets/datasets/seed_datasets_current/DS01876/DS01876_dataset/datasetDoc.json'"
      ]
     },
     "execution_count": 11,
     "metadata": {},
     "output_type": "execute_result"
    }
   ],
   "source": [
    "datasetDoc_uri = dataset_uri + \"/\" + data_folder + \"_dataset/datasetDoc.json\"\n",
    "datasetDoc_uri"
   ]
  },
  {
   "cell_type": "code",
   "execution_count": 12,
   "metadata": {},
   "outputs": [
    {
     "data": {
      "text/plain": [
       "ParseResult(scheme='file', netloc='localhost', path='/Users/Hayden/Desktop/Research/d3m/personal/some_datasets/datasets/seed_datasets_current/DS01876/DS01876_dataset/datasetDoc.json', params='', query='', fragment='')"
      ]
     },
     "execution_count": 12,
     "metadata": {},
     "output_type": "execute_result"
    }
   ],
   "source": [
    "parsed_uri = url_parse.urlparse(datasetDoc_uri)\n",
    "parsed_uri"
   ]
  },
  {
   "cell_type": "code",
   "execution_count": 13,
   "metadata": {},
   "outputs": [
    {
     "data": {
      "text/plain": [
       "True"
      ]
     },
     "execution_count": 13,
     "metadata": {},
     "output_type": "execute_result"
    }
   ],
   "source": [
    "can_load_test = ds.D3MDatasetLoader().can_load(dataset_uri = datasetDoc_uri)\n",
    "can_load_test"
   ]
  },
  {
   "cell_type": "code",
   "execution_count": 15,
   "metadata": {},
   "outputs": [
    {
     "ename": "NetworkXError",
     "evalue": "expected an int, float, string or '[', found 'https' at (1, 9)",
     "traceback": [
      "\u001b[1;31m---------------------------------------------------------------------------\u001b[0m",
      "\u001b[1;31mNetworkXError\u001b[0m                             Traceback (most recent call last)",
      "\u001b[1;32m<ipython-input-15-eaa282560e79>\u001b[0m in \u001b[0;36m<module>\u001b[1;34m()\u001b[0m\n\u001b[1;32m----> 1\u001b[1;33m \u001b[0mdata\u001b[0m \u001b[1;33m=\u001b[0m \u001b[0mds\u001b[0m\u001b[1;33m.\u001b[0m\u001b[0mD3MDatasetLoader\u001b[0m\u001b[1;33m(\u001b[0m\u001b[1;33m)\u001b[0m\u001b[1;33m.\u001b[0m\u001b[0mload\u001b[0m\u001b[1;33m(\u001b[0m\u001b[0mdataset_uri\u001b[0m \u001b[1;33m=\u001b[0m \u001b[0mdatasetDoc_uri\u001b[0m\u001b[1;33m,\u001b[0m \u001b[0mdataset_id\u001b[0m \u001b[1;33m=\u001b[0m \u001b[1;34m'DS01876_dataset'\u001b[0m\u001b[1;33m,\u001b[0m \u001b[0mdataset_version\u001b[0m \u001b[1;33m=\u001b[0m \u001b[1;34m'3.1.1'\u001b[0m\u001b[1;33m,\u001b[0m \u001b[0mdataset_name\u001b[0m \u001b[1;33m=\u001b[0m \u001b[1;34m\"connectome graph data\"\u001b[0m\u001b[1;33m)\u001b[0m\u001b[1;33m\u001b[0m\u001b[0m\n\u001b[0m",
      "\u001b[1;32mC:\\Anaconda3\\lib\\site-packages\\d3m\\container\\dataset.py\u001b[0m in \u001b[0;36mload\u001b[1;34m(self, dataset_uri, dataset_id, dataset_version, dataset_name, lazy, compute_digest, strict_digest)\u001b[0m\n\u001b[0;32m    357\u001b[0m             metadata, dataset_digest = self._load_data(\n\u001b[0;32m    358\u001b[0m                 \u001b[0mresources\u001b[0m\u001b[1;33m,\u001b[0m \u001b[0mmetadata\u001b[0m\u001b[1;33m,\u001b[0m \u001b[0mdataset_path\u001b[0m\u001b[1;33m=\u001b[0m\u001b[0mdataset_path\u001b[0m\u001b[1;33m,\u001b[0m \u001b[0mdataset_doc\u001b[0m\u001b[1;33m=\u001b[0m\u001b[0mdataset_doc\u001b[0m\u001b[1;33m,\u001b[0m \u001b[0mdataset_id\u001b[0m\u001b[1;33m=\u001b[0m\u001b[0mdataset_id\u001b[0m\u001b[1;33m,\u001b[0m\u001b[1;33m\u001b[0m\u001b[0m\n\u001b[1;32m--> 359\u001b[1;33m                 \u001b[0mdataset_digest\u001b[0m\u001b[1;33m=\u001b[0m\u001b[0mdataset_digest\u001b[0m\u001b[1;33m,\u001b[0m \u001b[0mcompute_digest\u001b[0m\u001b[1;33m=\u001b[0m\u001b[0mcompute_digest\u001b[0m\u001b[1;33m,\u001b[0m \u001b[0mstrict_digest\u001b[0m\u001b[1;33m=\u001b[0m\u001b[0mstrict_digest\u001b[0m\u001b[1;33m,\u001b[0m\u001b[1;33m\u001b[0m\u001b[0m\n\u001b[0m\u001b[0;32m    360\u001b[0m             )\n\u001b[0;32m    361\u001b[0m \u001b[1;33m\u001b[0m\u001b[0m\n",
      "\u001b[1;32mC:\\Anaconda3\\lib\\site-packages\\d3m\\container\\dataset.py\u001b[0m in \u001b[0;36m_load_data\u001b[1;34m(self, resources, metadata, dataset_path, dataset_doc, dataset_id, dataset_digest, compute_digest, strict_digest)\u001b[0m\n\u001b[0;32m    292\u001b[0m                     \u001b[1;32mraise\u001b[0m \u001b[0mexceptions\u001b[0m\u001b[1;33m.\u001b[0m\u001b[0mNotSupportedError\u001b[0m\u001b[1;33m(\u001b[0m\u001b[1;34m\"Resource type '{resource_type}' is not supported.\"\u001b[0m\u001b[1;33m.\u001b[0m\u001b[0mformat\u001b[0m\u001b[1;33m(\u001b[0m\u001b[0mresource_type\u001b[0m\u001b[1;33m=\u001b[0m\u001b[0mdata_resource\u001b[0m\u001b[1;33m[\u001b[0m\u001b[1;34m'resType'\u001b[0m\u001b[1;33m]\u001b[0m\u001b[1;33m)\u001b[0m\u001b[1;33m)\u001b[0m\u001b[1;33m\u001b[0m\u001b[0m\n\u001b[0;32m    293\u001b[0m \u001b[1;33m\u001b[0m\u001b[0m\n\u001b[1;32m--> 294\u001b[1;33m                 \u001b[0mresources\u001b[0m\u001b[1;33m[\u001b[0m\u001b[0mdata_resource\u001b[0m\u001b[1;33m[\u001b[0m\u001b[1;34m'resID'\u001b[0m\u001b[1;33m]\u001b[0m\u001b[1;33m]\u001b[0m\u001b[1;33m,\u001b[0m \u001b[0mmetadata\u001b[0m \u001b[1;33m=\u001b[0m \u001b[0mloader\u001b[0m\u001b[1;33m(\u001b[0m\u001b[0mdataset_path\u001b[0m\u001b[1;33m,\u001b[0m \u001b[0mdata_resource\u001b[0m\u001b[1;33m,\u001b[0m \u001b[0mmetadata\u001b[0m\u001b[1;33m,\u001b[0m \u001b[0mhash\u001b[0m\u001b[1;33m)\u001b[0m\u001b[1;33m\u001b[0m\u001b[0m\n\u001b[0m\u001b[0;32m    295\u001b[0m \u001b[1;33m\u001b[0m\u001b[0m\n\u001b[0;32m    296\u001b[0m         \u001b[1;32mif\u001b[0m \u001b[0mcompute_digest\u001b[0m\u001b[1;33m:\u001b[0m\u001b[1;33m\u001b[0m\u001b[0m\n",
      "\u001b[1;32mC:\\Anaconda3\\lib\\site-packages\\d3m\\container\\dataset.py\u001b[0m in \u001b[0;36m_load_resource_type_graph\u001b[1;34m(self, dataset_path, data_resource, metadata, hash)\u001b[0m\n\u001b[0;32m    752\u001b[0m \u001b[1;33m\u001b[0m\u001b[0m\n\u001b[0;32m    753\u001b[0m         \u001b[1;32mif\u001b[0m \u001b[0mdata_resource\u001b[0m\u001b[1;33m[\u001b[0m\u001b[1;34m'resFormat'\u001b[0m\u001b[1;33m]\u001b[0m \u001b[1;33m==\u001b[0m \u001b[1;33m[\u001b[0m\u001b[1;34m'text/gml'\u001b[0m\u001b[1;33m]\u001b[0m\u001b[1;33m:\u001b[0m\u001b[1;33m\u001b[0m\u001b[0m\n\u001b[1;32m--> 754\u001b[1;33m             \u001b[0mdata\u001b[0m \u001b[1;33m=\u001b[0m \u001b[0mnetworkx\u001b[0m\u001b[1;33m.\u001b[0m\u001b[0mread_gml\u001b[0m\u001b[1;33m(\u001b[0m\u001b[0mdata_path\u001b[0m\u001b[1;33m,\u001b[0m \u001b[0mlabel\u001b[0m\u001b[1;33m=\u001b[0m\u001b[1;34m'id'\u001b[0m\u001b[1;33m)\u001b[0m\u001b[1;33m\u001b[0m\u001b[0m\n\u001b[0m\u001b[0;32m    755\u001b[0m \u001b[1;33m\u001b[0m\u001b[0m\n\u001b[0;32m    756\u001b[0m             \u001b[1;32mif\u001b[0m \u001b[0mhash\u001b[0m \u001b[1;32mis\u001b[0m \u001b[1;32mnot\u001b[0m \u001b[1;32mNone\u001b[0m\u001b[1;33m:\u001b[0m\u001b[1;33m\u001b[0m\u001b[0m\n",
      "\u001b[1;32m<decorator-gen-556>\u001b[0m in \u001b[0;36mread_gml\u001b[1;34m(path, label, destringizer)\u001b[0m\n",
      "\u001b[1;32mC:\\Anaconda3\\lib\\site-packages\\networkx\\utils\\decorators.py\u001b[0m in \u001b[0;36m_open_file\u001b[1;34m(func_to_be_decorated, *args, **kwargs)\u001b[0m\n\u001b[0;32m    225\u001b[0m         \u001b[1;31m# Finally, we call the original function, making sure to close the fobj\u001b[0m\u001b[1;33m\u001b[0m\u001b[1;33m\u001b[0m\u001b[0m\n\u001b[0;32m    226\u001b[0m         \u001b[1;32mtry\u001b[0m\u001b[1;33m:\u001b[0m\u001b[1;33m\u001b[0m\u001b[0m\n\u001b[1;32m--> 227\u001b[1;33m             \u001b[0mresult\u001b[0m \u001b[1;33m=\u001b[0m \u001b[0mfunc_to_be_decorated\u001b[0m\u001b[1;33m(\u001b[0m\u001b[1;33m*\u001b[0m\u001b[0mnew_args\u001b[0m\u001b[1;33m,\u001b[0m \u001b[1;33m**\u001b[0m\u001b[0mkwargs\u001b[0m\u001b[1;33m)\u001b[0m\u001b[1;33m\u001b[0m\u001b[0m\n\u001b[0m\u001b[0;32m    228\u001b[0m         \u001b[1;32mfinally\u001b[0m\u001b[1;33m:\u001b[0m\u001b[1;33m\u001b[0m\u001b[0m\n\u001b[0;32m    229\u001b[0m             \u001b[1;32mif\u001b[0m \u001b[0mclose_fobj\u001b[0m\u001b[1;33m:\u001b[0m\u001b[1;33m\u001b[0m\u001b[0m\n",
      "\u001b[1;32mC:\\Anaconda3\\lib\\site-packages\\networkx\\readwrite\\gml.py\u001b[0m in \u001b[0;36mread_gml\u001b[1;34m(path, label, destringizer)\u001b[0m\n\u001b[0;32m    216\u001b[0m             \u001b[1;32myield\u001b[0m \u001b[0mline\u001b[0m\u001b[1;33m\u001b[0m\u001b[0m\n\u001b[0;32m    217\u001b[0m \u001b[1;33m\u001b[0m\u001b[0m\n\u001b[1;32m--> 218\u001b[1;33m     \u001b[0mG\u001b[0m \u001b[1;33m=\u001b[0m \u001b[0mparse_gml_lines\u001b[0m\u001b[1;33m(\u001b[0m\u001b[0mfilter_lines\u001b[0m\u001b[1;33m(\u001b[0m\u001b[0mpath\u001b[0m\u001b[1;33m)\u001b[0m\u001b[1;33m,\u001b[0m \u001b[0mlabel\u001b[0m\u001b[1;33m,\u001b[0m \u001b[0mdestringizer\u001b[0m\u001b[1;33m)\u001b[0m\u001b[1;33m\u001b[0m\u001b[0m\n\u001b[0m\u001b[0;32m    219\u001b[0m     \u001b[1;32mreturn\u001b[0m \u001b[0mG\u001b[0m\u001b[1;33m\u001b[0m\u001b[0m\n\u001b[0;32m    220\u001b[0m \u001b[1;33m\u001b[0m\u001b[0m\n",
      "\u001b[1;32mC:\\Anaconda3\\lib\\site-packages\\networkx\\readwrite\\gml.py\u001b[0m in \u001b[0;36mparse_gml_lines\u001b[1;34m(lines, label, destringizer)\u001b[0m\n\u001b[0;32m    396\u001b[0m \u001b[1;33m\u001b[0m\u001b[0m\n\u001b[0;32m    397\u001b[0m     \u001b[0mtokens\u001b[0m \u001b[1;33m=\u001b[0m \u001b[0mtokenize\u001b[0m\u001b[1;33m(\u001b[0m\u001b[1;33m)\u001b[0m\u001b[1;33m\u001b[0m\u001b[0m\n\u001b[1;32m--> 398\u001b[1;33m     \u001b[0mgraph\u001b[0m \u001b[1;33m=\u001b[0m \u001b[0mparse_graph\u001b[0m\u001b[1;33m(\u001b[0m\u001b[1;33m)\u001b[0m\u001b[1;33m\u001b[0m\u001b[0m\n\u001b[0m\u001b[0;32m    399\u001b[0m \u001b[1;33m\u001b[0m\u001b[0m\n\u001b[0;32m    400\u001b[0m     \u001b[0mdirected\u001b[0m \u001b[1;33m=\u001b[0m \u001b[0mgraph\u001b[0m\u001b[1;33m.\u001b[0m\u001b[0mpop\u001b[0m\u001b[1;33m(\u001b[0m\u001b[1;34m'directed'\u001b[0m\u001b[1;33m,\u001b[0m \u001b[1;32mFalse\u001b[0m\u001b[1;33m)\u001b[0m\u001b[1;33m\u001b[0m\u001b[0m\n",
      "\u001b[1;32mC:\\Anaconda3\\lib\\site-packages\\networkx\\readwrite\\gml.py\u001b[0m in \u001b[0;36mparse_graph\u001b[1;34m()\u001b[0m\n\u001b[0;32m    385\u001b[0m \u001b[1;33m\u001b[0m\u001b[0m\n\u001b[0;32m    386\u001b[0m     \u001b[1;32mdef\u001b[0m \u001b[0mparse_graph\u001b[0m\u001b[1;33m(\u001b[0m\u001b[1;33m)\u001b[0m\u001b[1;33m:\u001b[0m\u001b[1;33m\u001b[0m\u001b[0m\n\u001b[1;32m--> 387\u001b[1;33m         \u001b[0mcurr_token\u001b[0m\u001b[1;33m,\u001b[0m \u001b[0mdct\u001b[0m \u001b[1;33m=\u001b[0m \u001b[0mparse_kv\u001b[0m\u001b[1;33m(\u001b[0m\u001b[0mnext\u001b[0m\u001b[1;33m(\u001b[0m\u001b[0mtokens\u001b[0m\u001b[1;33m)\u001b[0m\u001b[1;33m)\u001b[0m\u001b[1;33m\u001b[0m\u001b[0m\n\u001b[0m\u001b[0;32m    388\u001b[0m         \u001b[1;32mif\u001b[0m \u001b[0mcurr_token\u001b[0m\u001b[1;33m[\u001b[0m\u001b[1;36m0\u001b[0m\u001b[1;33m]\u001b[0m \u001b[1;32mis\u001b[0m \u001b[1;32mnot\u001b[0m \u001b[1;32mNone\u001b[0m\u001b[1;33m:\u001b[0m  \u001b[1;31m# EOF\u001b[0m\u001b[1;33m\u001b[0m\u001b[0m\n\u001b[0;32m    389\u001b[0m             \u001b[0munexpected\u001b[0m\u001b[1;33m(\u001b[0m\u001b[0mcurr_token\u001b[0m\u001b[1;33m,\u001b[0m \u001b[1;34m'EOF'\u001b[0m\u001b[1;33m)\u001b[0m\u001b[1;33m\u001b[0m\u001b[0m\n",
      "\u001b[1;32mC:\\Anaconda3\\lib\\site-packages\\networkx\\readwrite\\gml.py\u001b[0m in \u001b[0;36mparse_kv\u001b[1;34m(curr_token)\u001b[0m\n\u001b[0;32m    372\u001b[0m                 \u001b[0mcurr_token\u001b[0m\u001b[1;33m,\u001b[0m \u001b[0mvalue\u001b[0m \u001b[1;33m=\u001b[0m \u001b[0mparse_dict\u001b[0m\u001b[1;33m(\u001b[0m\u001b[0mcurr_token\u001b[0m\u001b[1;33m)\u001b[0m\u001b[1;33m\u001b[0m\u001b[0m\n\u001b[0;32m    373\u001b[0m             \u001b[1;32melse\u001b[0m\u001b[1;33m:\u001b[0m\u001b[1;33m\u001b[0m\u001b[0m\n\u001b[1;32m--> 374\u001b[1;33m                 \u001b[0munexpected\u001b[0m\u001b[1;33m(\u001b[0m\u001b[0mcurr_token\u001b[0m\u001b[1;33m,\u001b[0m \u001b[1;34m\"an int, float, string or '['\"\u001b[0m\u001b[1;33m)\u001b[0m\u001b[1;33m\u001b[0m\u001b[0m\n\u001b[0m\u001b[0;32m    375\u001b[0m             \u001b[0mdct\u001b[0m\u001b[1;33m[\u001b[0m\u001b[0mkey\u001b[0m\u001b[1;33m]\u001b[0m\u001b[1;33m.\u001b[0m\u001b[0mappend\u001b[0m\u001b[1;33m(\u001b[0m\u001b[0mvalue\u001b[0m\u001b[1;33m)\u001b[0m\u001b[1;33m\u001b[0m\u001b[0m\n\u001b[0;32m    376\u001b[0m         dct = {key: (value if not isinstance(value, list) or len(value) != 1\n",
      "\u001b[1;32mC:\\Anaconda3\\lib\\site-packages\\networkx\\readwrite\\gml.py\u001b[0m in \u001b[0;36munexpected\u001b[1;34m(curr_token, expected)\u001b[0m\n\u001b[0;32m    345\u001b[0m             \u001b[1;34m'expected %s, found %s at (%d, %d)'\u001b[0m \u001b[1;33m%\u001b[0m\u001b[1;33m\u001b[0m\u001b[0m\n\u001b[0;32m    346\u001b[0m             (expected, repr(value) if value is not None else 'EOF', lineno,\n\u001b[1;32m--> 347\u001b[1;33m              pos))\n\u001b[0m\u001b[0;32m    348\u001b[0m \u001b[1;33m\u001b[0m\u001b[0m\n\u001b[0;32m    349\u001b[0m     \u001b[1;32mdef\u001b[0m \u001b[0mconsume\u001b[0m\u001b[1;33m(\u001b[0m\u001b[0mcurr_token\u001b[0m\u001b[1;33m,\u001b[0m \u001b[0mcategory\u001b[0m\u001b[1;33m,\u001b[0m \u001b[0mexpected\u001b[0m\u001b[1;33m)\u001b[0m\u001b[1;33m:\u001b[0m\u001b[1;33m\u001b[0m\u001b[0m\n",
      "\u001b[1;31mNetworkXError\u001b[0m: expected an int, float, string or '[', found 'https' at (1, 9)"
     ],
     "output_type": "error"
    }
   ],
   "source": [
    "data = ds.D3MDatasetLoader().load(dataset_uri = datasetDoc_uri, dataset_id = 'DS01876_dataset', dataset_version = '3.1.1', dataset_name = \"connectome graph data\")"
   ]
  },
  {
   "cell_type": "code",
   "execution_count": 171,
   "metadata": {
    "collapsed": true
   },
   "outputs": [],
   "source": [
    "data_folder = 'DS01876_dataset/'\n",
    "\n",
    "with open(data_folder + 'datasetDoc.json') as f:\n",
    "    js = json.load(f)"
   ]
  },
  {
   "cell_type": "code",
   "execution_count": 172,
   "metadata": {},
   "outputs": [
    {
     "data": {
      "text/plain": [
       "{'about': {'citation': '@techreport{Kiar2017,title={https://github.com/ebridge2/ndmg-paper/ndmg.pdf}{A Principled Approach to Human Connectome Estimation and Mega-Analysis},author={Kiar, Gregory and Bridgeford, Eric W and Chandrashakar, Vikram and Mhembere, Disa and Consortium for Reliability and Reproducibility (CoRR), and Ryman, Sephira and Jung, Rex and and Burns, Randal and Yang, Zhi and Zuo, Xi-Nian and Milham, Michael P and Craddock, Cameron and Roncal, Will Gray and Vogelstein, Joshua T}, journal={BioarXiv}, year={2017},}',\n",
       "  'datasetID': 'DS01876_dataset',\n",
       "  'datasetName': 'connectome graph data',\n",
       "  'datasetSchemaVersion': '3.1.1',\n",
       "  'description': 'Data for DS01876 consists of one graph, G1. Associated with each node is a classLabel that has to be learned and predicted.',\n",
       "  'license': 'ODC-BY',\n",
       "  'redacted': False,\n",
       "  'source': 'Johns Hopkins University'},\n",
       " 'dataResources': [{'isCollection': False,\n",
       "   'resFormat': ['text/gml'],\n",
       "   'resID': '0',\n",
       "   'resPath': 'graphs/G1.gml',\n",
       "   'resType': 'graph'},\n",
       "  {'columns': [{'colIndex': 0,\n",
       "     'colName': 'd3mIndex',\n",
       "     'colType': 'integer',\n",
       "     'role': ['index']},\n",
       "    {'colIndex': 1,\n",
       "     'colName': 'G1.nodeID',\n",
       "     'colType': 'string',\n",
       "     'refersTo': {'resID': '0', 'resObject': 'node'},\n",
       "     'role': ['attribute']},\n",
       "    {'colIndex': 2,\n",
       "     'colName': 'classLabel',\n",
       "     'colType': 'categorical',\n",
       "     'role': ['suggestedTarget']}],\n",
       "   'isCollection': False,\n",
       "   'resFormat': ['text/csv'],\n",
       "   'resID': '1',\n",
       "   'resPath': 'tables/learningData.csv',\n",
       "   'resType': 'table'}]}"
      ]
     },
     "execution_count": 172,
     "metadata": {},
     "output_type": "execute_result"
    }
   ],
   "source": [
    "js"
   ]
  },
  {
   "cell_type": "code",
   "execution_count": 173,
   "metadata": {},
   "outputs": [
    {
     "data": {
      "text/plain": [
       "(2,\n",
       " [{'isCollection': False,\n",
       "   'resFormat': ['text/gml'],\n",
       "   'resID': '0',\n",
       "   'resPath': 'graphs/G1.gml',\n",
       "   'resType': 'graph'},\n",
       "  {'columns': [{'colIndex': 0,\n",
       "     'colName': 'd3mIndex',\n",
       "     'colType': 'integer',\n",
       "     'role': ['index']},\n",
       "    {'colIndex': 1,\n",
       "     'colName': 'G1.nodeID',\n",
       "     'colType': 'string',\n",
       "     'refersTo': {'resID': '0', 'resObject': 'node'},\n",
       "     'role': ['attribute']},\n",
       "    {'colIndex': 2,\n",
       "     'colName': 'classLabel',\n",
       "     'colType': 'categorical',\n",
       "     'role': ['suggestedTarget']}],\n",
       "   'isCollection': False,\n",
       "   'resFormat': ['text/csv'],\n",
       "   'resID': '1',\n",
       "   'resPath': 'tables/learningData.csv',\n",
       "   'resType': 'table'}])"
      ]
     },
     "execution_count": 173,
     "metadata": {},
     "output_type": "execute_result"
    }
   ],
   "source": [
    "len(js['dataResources']), js['dataResources']"
   ]
  },
  {
   "cell_type": "code",
   "execution_count": 174,
   "metadata": {},
   "outputs": [
    {
     "data": {
      "text/plain": [
       "('graphs/G1.gml', 'tables/learningData.csv')"
      ]
     },
     "execution_count": 174,
     "metadata": {},
     "output_type": "execute_result"
    }
   ],
   "source": [
    "js['dataResources'][0]['resPath'], js['dataResources'][1]['resPath']"
   ]
  },
  {
   "cell_type": "code",
   "execution_count": 175,
   "metadata": {
    "collapsed": true
   },
   "outputs": [],
   "source": [
    "data_paths = []\n",
    "\n",
    "for i in range(len(js['dataResources'])):\n",
    "    data_paths.append(data_folder + js['dataResources'][i]['resPath'])"
   ]
  },
  {
   "cell_type": "code",
   "execution_count": 176,
   "metadata": {},
   "outputs": [
    {
     "data": {
      "text/plain": [
       "['DS01876_dataset/graphs/G1.gml', 'DS01876_dataset/tables/learningData.csv']"
      ]
     },
     "execution_count": 176,
     "metadata": {},
     "output_type": "execute_result"
    }
   ],
   "source": [
    "data_paths"
   ]
  },
  {
   "cell_type": "code",
   "execution_count": 178,
   "metadata": {},
   "outputs": [
    {
     "ename": "NetworkXError",
     "evalue": "expected an int, float, string or '[', found 'https' at (1, 9)",
     "traceback": [
      "\u001b[1;31m---------------------------------------------------------------------------\u001b[0m",
      "\u001b[1;31mNetworkXError\u001b[0m                             Traceback (most recent call last)",
      "\u001b[1;32m<ipython-input-178-9747dc95a392>\u001b[0m in \u001b[0;36m<module>\u001b[1;34m()\u001b[0m\n\u001b[1;32m----> 1\u001b[1;33m \u001b[0mG1\u001b[0m \u001b[1;33m=\u001b[0m \u001b[0mnx\u001b[0m\u001b[1;33m.\u001b[0m\u001b[0mread_gml\u001b[0m\u001b[1;33m(\u001b[0m\u001b[0mdata_paths\u001b[0m\u001b[1;33m[\u001b[0m\u001b[1;36m0\u001b[0m\u001b[1;33m]\u001b[0m\u001b[1;33m)\u001b[0m\u001b[1;33m\u001b[0m\u001b[0m\n\u001b[0m\u001b[0;32m      2\u001b[0m \u001b[1;33m\u001b[0m\u001b[0m\n\u001b[0;32m      3\u001b[0m \u001b[0mlearningData\u001b[0m \u001b[1;33m=\u001b[0m \u001b[0mpd\u001b[0m\u001b[1;33m.\u001b[0m\u001b[0mread_csv\u001b[0m\u001b[1;33m(\u001b[0m\u001b[0mdata_paths\u001b[0m\u001b[1;33m[\u001b[0m\u001b[1;36m1\u001b[0m\u001b[1;33m]\u001b[0m\u001b[1;33m)\u001b[0m\u001b[1;33m\u001b[0m\u001b[0m\n",
      "\u001b[1;32m<decorator-gen-556>\u001b[0m in \u001b[0;36mread_gml\u001b[1;34m(path, label, destringizer)\u001b[0m\n",
      "\u001b[1;32mC:\\Anaconda3\\lib\\site-packages\\networkx\\utils\\decorators.py\u001b[0m in \u001b[0;36m_open_file\u001b[1;34m(func_to_be_decorated, *args, **kwargs)\u001b[0m\n\u001b[0;32m    225\u001b[0m         \u001b[1;31m# Finally, we call the original function, making sure to close the fobj\u001b[0m\u001b[1;33m\u001b[0m\u001b[1;33m\u001b[0m\u001b[0m\n\u001b[0;32m    226\u001b[0m         \u001b[1;32mtry\u001b[0m\u001b[1;33m:\u001b[0m\u001b[1;33m\u001b[0m\u001b[0m\n\u001b[1;32m--> 227\u001b[1;33m             \u001b[0mresult\u001b[0m \u001b[1;33m=\u001b[0m \u001b[0mfunc_to_be_decorated\u001b[0m\u001b[1;33m(\u001b[0m\u001b[1;33m*\u001b[0m\u001b[0mnew_args\u001b[0m\u001b[1;33m,\u001b[0m \u001b[1;33m**\u001b[0m\u001b[0mkwargs\u001b[0m\u001b[1;33m)\u001b[0m\u001b[1;33m\u001b[0m\u001b[0m\n\u001b[0m\u001b[0;32m    228\u001b[0m         \u001b[1;32mfinally\u001b[0m\u001b[1;33m:\u001b[0m\u001b[1;33m\u001b[0m\u001b[0m\n\u001b[0;32m    229\u001b[0m             \u001b[1;32mif\u001b[0m \u001b[0mclose_fobj\u001b[0m\u001b[1;33m:\u001b[0m\u001b[1;33m\u001b[0m\u001b[0m\n",
      "\u001b[1;32mC:\\Anaconda3\\lib\\site-packages\\networkx\\readwrite\\gml.py\u001b[0m in \u001b[0;36mread_gml\u001b[1;34m(path, label, destringizer)\u001b[0m\n\u001b[0;32m    216\u001b[0m             \u001b[1;32myield\u001b[0m \u001b[0mline\u001b[0m\u001b[1;33m\u001b[0m\u001b[0m\n\u001b[0;32m    217\u001b[0m \u001b[1;33m\u001b[0m\u001b[0m\n\u001b[1;32m--> 218\u001b[1;33m     \u001b[0mG\u001b[0m \u001b[1;33m=\u001b[0m \u001b[0mparse_gml_lines\u001b[0m\u001b[1;33m(\u001b[0m\u001b[0mfilter_lines\u001b[0m\u001b[1;33m(\u001b[0m\u001b[0mpath\u001b[0m\u001b[1;33m)\u001b[0m\u001b[1;33m,\u001b[0m \u001b[0mlabel\u001b[0m\u001b[1;33m,\u001b[0m \u001b[0mdestringizer\u001b[0m\u001b[1;33m)\u001b[0m\u001b[1;33m\u001b[0m\u001b[0m\n\u001b[0m\u001b[0;32m    219\u001b[0m     \u001b[1;32mreturn\u001b[0m \u001b[0mG\u001b[0m\u001b[1;33m\u001b[0m\u001b[0m\n\u001b[0;32m    220\u001b[0m \u001b[1;33m\u001b[0m\u001b[0m\n",
      "\u001b[1;32mC:\\Anaconda3\\lib\\site-packages\\networkx\\readwrite\\gml.py\u001b[0m in \u001b[0;36mparse_gml_lines\u001b[1;34m(lines, label, destringizer)\u001b[0m\n\u001b[0;32m    396\u001b[0m \u001b[1;33m\u001b[0m\u001b[0m\n\u001b[0;32m    397\u001b[0m     \u001b[0mtokens\u001b[0m \u001b[1;33m=\u001b[0m \u001b[0mtokenize\u001b[0m\u001b[1;33m(\u001b[0m\u001b[1;33m)\u001b[0m\u001b[1;33m\u001b[0m\u001b[0m\n\u001b[1;32m--> 398\u001b[1;33m     \u001b[0mgraph\u001b[0m \u001b[1;33m=\u001b[0m \u001b[0mparse_graph\u001b[0m\u001b[1;33m(\u001b[0m\u001b[1;33m)\u001b[0m\u001b[1;33m\u001b[0m\u001b[0m\n\u001b[0m\u001b[0;32m    399\u001b[0m \u001b[1;33m\u001b[0m\u001b[0m\n\u001b[0;32m    400\u001b[0m     \u001b[0mdirected\u001b[0m \u001b[1;33m=\u001b[0m \u001b[0mgraph\u001b[0m\u001b[1;33m.\u001b[0m\u001b[0mpop\u001b[0m\u001b[1;33m(\u001b[0m\u001b[1;34m'directed'\u001b[0m\u001b[1;33m,\u001b[0m \u001b[1;32mFalse\u001b[0m\u001b[1;33m)\u001b[0m\u001b[1;33m\u001b[0m\u001b[0m\n",
      "\u001b[1;32mC:\\Anaconda3\\lib\\site-packages\\networkx\\readwrite\\gml.py\u001b[0m in \u001b[0;36mparse_graph\u001b[1;34m()\u001b[0m\n\u001b[0;32m    385\u001b[0m \u001b[1;33m\u001b[0m\u001b[0m\n\u001b[0;32m    386\u001b[0m     \u001b[1;32mdef\u001b[0m \u001b[0mparse_graph\u001b[0m\u001b[1;33m(\u001b[0m\u001b[1;33m)\u001b[0m\u001b[1;33m:\u001b[0m\u001b[1;33m\u001b[0m\u001b[0m\n\u001b[1;32m--> 387\u001b[1;33m         \u001b[0mcurr_token\u001b[0m\u001b[1;33m,\u001b[0m \u001b[0mdct\u001b[0m \u001b[1;33m=\u001b[0m \u001b[0mparse_kv\u001b[0m\u001b[1;33m(\u001b[0m\u001b[0mnext\u001b[0m\u001b[1;33m(\u001b[0m\u001b[0mtokens\u001b[0m\u001b[1;33m)\u001b[0m\u001b[1;33m)\u001b[0m\u001b[1;33m\u001b[0m\u001b[0m\n\u001b[0m\u001b[0;32m    388\u001b[0m         \u001b[1;32mif\u001b[0m \u001b[0mcurr_token\u001b[0m\u001b[1;33m[\u001b[0m\u001b[1;36m0\u001b[0m\u001b[1;33m]\u001b[0m \u001b[1;32mis\u001b[0m \u001b[1;32mnot\u001b[0m \u001b[1;32mNone\u001b[0m\u001b[1;33m:\u001b[0m  \u001b[1;31m# EOF\u001b[0m\u001b[1;33m\u001b[0m\u001b[0m\n\u001b[0;32m    389\u001b[0m             \u001b[0munexpected\u001b[0m\u001b[1;33m(\u001b[0m\u001b[0mcurr_token\u001b[0m\u001b[1;33m,\u001b[0m \u001b[1;34m'EOF'\u001b[0m\u001b[1;33m)\u001b[0m\u001b[1;33m\u001b[0m\u001b[0m\n",
      "\u001b[1;32mC:\\Anaconda3\\lib\\site-packages\\networkx\\readwrite\\gml.py\u001b[0m in \u001b[0;36mparse_kv\u001b[1;34m(curr_token)\u001b[0m\n\u001b[0;32m    372\u001b[0m                 \u001b[0mcurr_token\u001b[0m\u001b[1;33m,\u001b[0m \u001b[0mvalue\u001b[0m \u001b[1;33m=\u001b[0m \u001b[0mparse_dict\u001b[0m\u001b[1;33m(\u001b[0m\u001b[0mcurr_token\u001b[0m\u001b[1;33m)\u001b[0m\u001b[1;33m\u001b[0m\u001b[0m\n\u001b[0;32m    373\u001b[0m             \u001b[1;32melse\u001b[0m\u001b[1;33m:\u001b[0m\u001b[1;33m\u001b[0m\u001b[0m\n\u001b[1;32m--> 374\u001b[1;33m                 \u001b[0munexpected\u001b[0m\u001b[1;33m(\u001b[0m\u001b[0mcurr_token\u001b[0m\u001b[1;33m,\u001b[0m \u001b[1;34m\"an int, float, string or '['\"\u001b[0m\u001b[1;33m)\u001b[0m\u001b[1;33m\u001b[0m\u001b[0m\n\u001b[0m\u001b[0;32m    375\u001b[0m             \u001b[0mdct\u001b[0m\u001b[1;33m[\u001b[0m\u001b[0mkey\u001b[0m\u001b[1;33m]\u001b[0m\u001b[1;33m.\u001b[0m\u001b[0mappend\u001b[0m\u001b[1;33m(\u001b[0m\u001b[0mvalue\u001b[0m\u001b[1;33m)\u001b[0m\u001b[1;33m\u001b[0m\u001b[0m\n\u001b[0;32m    376\u001b[0m         dct = {key: (value if not isinstance(value, list) or len(value) != 1\n",
      "\u001b[1;32mC:\\Anaconda3\\lib\\site-packages\\networkx\\readwrite\\gml.py\u001b[0m in \u001b[0;36munexpected\u001b[1;34m(curr_token, expected)\u001b[0m\n\u001b[0;32m    345\u001b[0m             \u001b[1;34m'expected %s, found %s at (%d, %d)'\u001b[0m \u001b[1;33m%\u001b[0m\u001b[1;33m\u001b[0m\u001b[0m\n\u001b[0;32m    346\u001b[0m             (expected, repr(value) if value is not None else 'EOF', lineno,\n\u001b[1;32m--> 347\u001b[1;33m              pos))\n\u001b[0m\u001b[0;32m    348\u001b[0m \u001b[1;33m\u001b[0m\u001b[0m\n\u001b[0;32m    349\u001b[0m     \u001b[1;32mdef\u001b[0m \u001b[0mconsume\u001b[0m\u001b[1;33m(\u001b[0m\u001b[0mcurr_token\u001b[0m\u001b[1;33m,\u001b[0m \u001b[0mcategory\u001b[0m\u001b[1;33m,\u001b[0m \u001b[0mexpected\u001b[0m\u001b[1;33m)\u001b[0m\u001b[1;33m:\u001b[0m\u001b[1;33m\u001b[0m\u001b[0m\n",
      "\u001b[1;31mNetworkXError\u001b[0m: expected an int, float, string or '[', found 'https' at (1, 9)"
     ],
     "output_type": "error"
    }
   ],
   "source": [
    "G1 = nx.read_gml(data_paths[0])\n",
    "\n",
    "learningData = pd.read_csv(data_paths[1])"
   ]
  },
  {
   "cell_type": "code",
   "execution_count": null,
   "metadata": {
    "collapsed": true
   },
   "outputs": [],
   "source": []
  }
 ],
 "metadata": {
  "kernelspec": {
   "display_name": "Python 3",
   "language": "python",
   "name": "python3"
  },
  "language_info": {
   "codemirror_mode": {
    "name": "ipython",
    "version": 3
   },
   "file_extension": ".py",
   "mimetype": "text/x-python",
   "name": "python",
   "nbconvert_exporter": "python",
   "pygments_lexer": "ipython3",
   "version": "3.6.1"
  }
 },
 "nbformat": 4,
 "nbformat_minor": 2
}
