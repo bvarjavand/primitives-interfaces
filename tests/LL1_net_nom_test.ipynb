{
 "cells": [
  {
   "cell_type": "code",
   "execution_count": 1,
   "metadata": {},
   "outputs": [
    {
     "name": "stderr",
     "output_type": "stream",
     "text": [
      "d3m.primitives.link_prediction.data_conversion.JHU: Primitive's Python path does not adhere to d3m.primitives namespace specification. Reason: must have a known primitive name segment.\n",
      "d3m.primitives.link_prediction.data_conversion.JHU: Primitive is not providing a description through its docstring.\n",
      "d3m.primitives.jhu_primitives.LinkPredictionRankClassifier: Primitive's Python path does not adhere to d3m.primitives namespace specification. Reason: must have 5 segments.\n",
      "d3m.primitives.jhu_primitives.LinkPredictionRankClassifier: Primitive is not providing a description through its docstring.\n",
      "d3m.primitives.vertex_nomination.spectral_vertex_nomination.JHU: Primitive's Python path does not adhere to d3m.primitives namespace specification. Reason: must have a known primitive name segment.\n"
     ]
    }
   ],
   "source": [
    "import numpy as np\n",
    "import networkx as nx\n",
    "import matplotlib.pyplot as plt\n",
    "\n",
    "import d3m\n",
    "from d3m.container import pandas as pd\n",
    "from d3m.container.dataset import D3MDatasetLoader\n",
    "from d3m.metadata import hyperparams\n",
    "\n",
    "import os\n",
    "\n",
    "from jhu_primitives.utils import file_path_conversion\n",
    "from jhu_primitives.utils.util import data_file_uri\n",
    "\n",
    "import jhu_primitives as jhu"
   ]
  },
  {
   "cell_type": "code",
   "execution_count": 2,
   "metadata": {},
   "outputs": [],
   "source": [
    "import _pickle as pickle\n",
    "# pickle.dump(data_TRUTH, open('LL1_truth.pkl', 'wb'))\n",
    "# pickle.dump(data_TRAIN, open('LL1_train.pkl', 'wb'))\n",
    "# pickle.dump(data_TEST, open('LL1_test.pkl', 'wb'))\n",
    "\n",
    "truth = pickle.load(open('LL1_truth.pkl', 'rb'))\n",
    "train = pickle.load(open('LL1_train.pkl', 'rb'))\n",
    "test = pickle.load(open('LL1_test.pkl', 'rb'))"
   ]
  },
  {
   "cell_type": "code",
   "execution_count": 3,
   "metadata": {},
   "outputs": [],
   "source": [
    "# LL1 ASE"
   ]
  },
  {
   "cell_type": "code",
   "execution_count": 4,
   "metadata": {},
   "outputs": [
    {
     "data": {
      "text/plain": [
       "0.9125"
      ]
     },
     "execution_count": 4,
     "metadata": {},
     "output_type": "execute_result"
    }
   ],
   "source": [
    "hp_lcc = jhu.lcc.lcc.Hyperparams().defaults\n",
    "hp_ase = jhu.ase.ase.Hyperparams({'use_attributes': True, 'max_dimension': 5, 'which_elbow': 1})\n",
    "hp_gclass = jhu.gclass.gclass.Hyperparams().defaults\n",
    "\n",
    "# Initialize\n",
    "LCC = jhu.LargestConnectedComponent(hyperparams=hp_lcc)\n",
    "ASE = jhu.AdjacencySpectralEmbedding(hyperparams=hp_ase)\n",
    "GCLASS = jhu.GaussianClassification(hyperparams=hp_gclass)\n",
    "\n",
    "# Train\n",
    "lcc_train = LCC.produce(inputs = train).value\n",
    "ase_train = ASE.produce(inputs = lcc_train).value\n",
    "GCLASS.set_training_data(inputs = ase_train)\n",
    "GCLASS.fit()\n",
    "\n",
    "# Test\n",
    "lcc_test = LCC.produce(inputs = test).value\n",
    "ase_test = ASE.produce(inputs = lcc_test).value\n",
    "predictions = GCLASS.produce(inputs = ase_test).value\n",
    "\n",
    "truth_labels = np.array(truth['learningData']['classLabel'])[np.array(predictions['d3mIndex'])]\n",
    "preds = np.array(predictions['classLabel'])\n",
    "np.sum(preds.astype(str) == truth_labels)/len(preds)"
   ]
  },
  {
   "cell_type": "code",
   "execution_count": 5,
   "metadata": {},
   "outputs": [],
   "source": [
    "# LL1 LSE"
   ]
  },
  {
   "cell_type": "code",
   "execution_count": 6,
   "metadata": {},
   "outputs": [
    {
     "data": {
      "text/plain": [
       "0.8375"
      ]
     },
     "execution_count": 6,
     "metadata": {},
     "output_type": "execute_result"
    }
   ],
   "source": [
    "hp_lcc = jhu.lcc.lcc.Hyperparams().defaults\n",
    "hp_lse = jhu.lse.lse.Hyperparams({'use_attributes': True, 'max_dimension': 5, 'which_elbow': 1})\n",
    "hp_gclass = jhu.gclass.gclass.Hyperparams().defaults\n",
    "\n",
    "# Initialize\n",
    "LCC = jhu.LargestConnectedComponent(hyperparams=hp_lcc)\n",
    "LSE = jhu.LaplacianSpectralEmbedding(hyperparams=hp_lse)\n",
    "GCLASS = jhu.GaussianClassification(hyperparams=hp_gclass)\n",
    "\n",
    "# Train\n",
    "lcc_train = LCC.produce(inputs = train).value\n",
    "lse_train = LSE.produce(inputs = lcc_train).value\n",
    "GCLASS.set_training_data(inputs = lse_train)\n",
    "GCLASS.fit()\n",
    "\n",
    "# Test\n",
    "lcc_test = LCC.produce(inputs = test).value\n",
    "lse_test = LSE.produce(inputs = lcc_test).value\n",
    "predictions = GCLASS.produce(inputs = lse_test).value\n",
    "\n",
    "truth_labels = np.array(truth['learningData']['classLabel'])[np.array(predictions['d3mIndex'])]\n",
    "preds = np.array(predictions['classLabel'])\n",
    "np.sum(preds.astype(str) == truth_labels)/len(preds)"
   ]
  },
  {
   "cell_type": "code",
   "execution_count": 7,
   "metadata": {},
   "outputs": [],
   "source": [
    "# LL1 SGC"
   ]
  },
  {
   "cell_type": "code",
   "execution_count": 8,
   "metadata": {},
   "outputs": [
    {
     "data": {
      "text/plain": [
       "0.9125"
      ]
     },
     "execution_count": 8,
     "metadata": {},
     "output_type": "execute_result"
    }
   ],
   "source": [
    "hp_sgc = jhu.sgc.sgc.Hyperparams().defaults()\n",
    "\n",
    "SGC = jhu.SpectralGraphClustering(hyperparams=hp_sgc)\n",
    "\n",
    "SGC.set_training_data(inputs = train)\n",
    "SGC.fit()\n",
    "predictions = SGC.produce(inputs = test).value\n",
    "\n",
    "truth_labels = np.array(truth['learningData']['classLabel'])[np.array(predictions['d3mIndex']).astype(int)]\n",
    "preds = np.array(predictions['classLabel'])\n",
    "np.sum(preds.astype(str) == truth_labels)/len(preds)"
   ]
  },
  {
   "cell_type": "code",
   "execution_count": null,
   "metadata": {},
   "outputs": [
    {
     "name": "stdout",
     "output_type": "stream",
     "text": [
      "Enter \n",
      " 0: exit \n",
      " 1: seed_datasets_current \n",
      " 2: training_datasets \n",
      " 3: if already in the data folder \n",
      "1\n",
      "Enter \n",
      " 0: exit \n",
      " Name of the data folder (case sensitive; must be in datasets/seed_datasets_current) \n",
      "LL1_EDGELIST_net_nomination_seed\n",
      "Enter \n",
      " 0: exit \n",
      " Name of the data folder (case sensitive; must be in datasets/seed_datasets_current) \n",
      "LL1_EDGELIST_net_nomination\n",
      "Enter \n",
      " 0: exit \n",
      " Name of the data folder (case sensitive; must be in datasets/seed_datasets_current) \n",
      "LL1_EDGELIST_net_nom_seed\n",
      "Enter \n",
      " 0: exit \n",
      " Name of the data folder (case sensitive; must be in datasets/seed_datasets_current) \n",
      "LL1_EDGELIST_net_nomination_seed\n"
     ]
    }
   ],
   "source": [
    "import _pickle as pickle\n",
    "abs_file_path = os.path.abspath(os.getcwd())\n",
    "dataset_uri = data_file_uri(abs_file_path, uri = \"file\", datasetDoc = True, dataset_type=\"\")\n",
    "data = D3MDatasetLoader().load(dataset_uri = dataset_uri)\n",
    "pickle.dump(data, open('EDGELIST_truth.pkl', 'wb'))\n",
    "\n",
    "dataset_uri = data_file_uri(abs_file_path, uri = \"file\", datasetDoc = True, dataset_type=\"TRAIN\")\n",
    "data = D3MDatasetLoader().load(dataset_uri = dataset_uri)\n",
    "pickle.dump(data, open('EDGELIST_train.pkl', 'wb'))\n",
    "\n",
    "dataset_uri = data_file_uri(abs_file_path, uri = \"file\", datasetDoc = True, dataset_type=\"TEST\")\n",
    "data = D3MDatasetLoader().load(dataset_uri = dataset_uri)\n",
    "pickle.dump(data, open('EDGELIST_test.pkl', 'wb'))\n",
    "\n",
    "truth = pickle.load(open('EDGELIST_truth.pkl', 'rb'))\n",
    "train = pickle.load(open('EDGELIST_train.pkl', 'rb'))\n",
    "test = pickle.load(open('EDGELIST_test.pkl', 'rb'))"
   ]
  },
  {
   "cell_type": "code",
   "execution_count": 10,
   "metadata": {},
   "outputs": [],
   "source": [
    "# EDGELIST ASE"
   ]
  },
  {
   "cell_type": "code",
   "execution_count": 11,
   "metadata": {},
   "outputs": [
    {
     "data": {
      "text/plain": [
       "0.6625"
      ]
     },
     "execution_count": 11,
     "metadata": {},
     "output_type": "execute_result"
    }
   ],
   "source": [
    "hp_lcc = jhu.lcc.lcc.Hyperparams().defaults\n",
    "hp_ase = jhu.ase.ase.Hyperparams({'use_attributes': True, 'max_dimension': 5, 'which_elbow': 1})\n",
    "hp_gclass = jhu.gclass.gclass.Hyperparams().defaults\n",
    "\n",
    "# Initialize\n",
    "LCC = jhu.LargestConnectedComponent(hyperparams=hp_lcc)\n",
    "ASE = jhu.AdjacencySpectralEmbedding(hyperparams=hp_ase)\n",
    "GCLASS = jhu.GaussianClassification(hyperparams=hp_gclass)\n",
    "\n",
    "# Train\n",
    "lcc_train = LCC.produce(inputs = train).value\n",
    "ase_train = ASE.produce(inputs = lcc_train).value\n",
    "GCLASS.set_training_data(inputs = ase_train)\n",
    "GCLASS.fit()\n",
    "\n",
    "# Test\n",
    "lcc_test = LCC.produce(inputs = test).value\n",
    "ase_test = ASE.produce(inputs = lcc_test).value\n",
    "predictions = GCLASS.produce(inputs = ase_test).value\n",
    "\n",
    "truth_labels = np.array(truth['learningData']['classLabel'])[np.array(predictions['d3mIndex'])]\n",
    "preds = np.array(predictions['classLabel'])\n",
    "np.sum(preds.astype(str) == truth_labels)/len(preds)"
   ]
  },
  {
   "cell_type": "code",
   "execution_count": 12,
   "metadata": {},
   "outputs": [],
   "source": [
    "# EDGELIST LSE"
   ]
  },
  {
   "cell_type": "code",
   "execution_count": 13,
   "metadata": {},
   "outputs": [
    {
     "data": {
      "text/plain": [
       "0.75"
      ]
     },
     "execution_count": 13,
     "metadata": {},
     "output_type": "execute_result"
    }
   ],
   "source": [
    "hp_lcc = jhu.lcc.lcc.Hyperparams().defaults\n",
    "hp_lse = jhu.lse.lse.Hyperparams({'use_attributes': True, 'max_dimension': 5, 'which_elbow': 1})\n",
    "hp_gclass = jhu.gclass.gclass.Hyperparams().defaults\n",
    "\n",
    "# Initialize\n",
    "LCC = jhu.LargestConnectedComponent(hyperparams=hp_lcc)\n",
    "LSE = jhu.LaplacianSpectralEmbedding(hyperparams=hp_lse)\n",
    "GCLASS = jhu.GaussianClassification(hyperparams=hp_gclass)\n",
    "\n",
    "# Train\n",
    "lcc_train = LCC.produce(inputs = train).value\n",
    "lse_train = LSE.produce(inputs = lcc_train).value\n",
    "GCLASS.set_training_data(inputs = lse_train)\n",
    "GCLASS.fit()\n",
    "\n",
    "# Test\n",
    "lcc_test = LCC.produce(inputs = test).value\n",
    "lse_test = LSE.produce(inputs = lcc_test).value\n",
    "predictions = GCLASS.produce(inputs = lse_test).value\n",
    "\n",
    "truth_labels = np.array(truth['learningData']['classLabel'])[np.array(predictions['d3mIndex'])]\n",
    "preds = np.array(predictions['classLabel'])\n",
    "np.sum(preds.astype(str) == truth_labels)/len(preds)"
   ]
  },
  {
   "cell_type": "code",
   "execution_count": 14,
   "metadata": {},
   "outputs": [],
   "source": [
    "# EDGELIST SGC"
   ]
  },
  {
   "cell_type": "code",
   "execution_count": 15,
   "metadata": {},
   "outputs": [
    {
     "data": {
      "text/plain": [
       "0.6625"
      ]
     },
     "execution_count": 15,
     "metadata": {},
     "output_type": "execute_result"
    }
   ],
   "source": [
    "hp_sgc = jhu.sgc.sgc.Hyperparams().defaults()\n",
    "\n",
    "SGC = jhu.SpectralGraphClustering(hyperparams=hp_sgc)\n",
    "\n",
    "SGC.set_training_data(inputs = train)\n",
    "SGC.fit()\n",
    "predictions = SGC.produce(inputs = test).value\n",
    "\n",
    "truth_labels = np.array(truth['learningData']['classLabel'])[np.array(predictions['d3mIndex']).astype(int)]\n",
    "preds = np.array(predictions['classLabel'])\n",
    "np.sum(preds.astype(str) == truth_labels)/len(preds)"
   ]
  }
 ],
 "metadata": {
  "kernelspec": {
   "display_name": "hh",
   "language": "python",
   "name": "hh"
  },
  "language_info": {
   "codemirror_mode": {
    "name": "ipython",
    "version": 3
   },
   "file_extension": ".py",
   "mimetype": "text/x-python",
   "name": "python",
   "nbconvert_exporter": "python",
   "pygments_lexer": "ipython3",
   "version": "3.6.7"
  }
 },
 "nbformat": 4,
 "nbformat_minor": 2
}
