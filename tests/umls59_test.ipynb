{
 "cells": [
  {
   "cell_type": "code",
   "execution_count": 1,
   "metadata": {},
   "outputs": [
    {
     "name": "stderr",
     "output_type": "stream",
     "text": [
      "d3m.primitives.link_prediction.data_conversion.JHU: Primitive's Python path does not adhere to d3m.primitives namespace specification (see https://gitlab.com/datadrivendiscovery/d3m/issues/3). Reason: must have a known primitive name segment.\n",
      "d3m.primitives.link_prediction.data_conversion.JHU: Primitive is not providing a description through its docstring.\n",
      "d3m.primitives.jhu_primitives.LinkPredictionRankClassifier: Primitive's Python path does not adhere to d3m.primitives namespace specification (see https://gitlab.com/datadrivendiscovery/d3m/issues/3). Reason: must have 5 segments. This API will be made mandatory after January 2019 and this warning will become an exception.\n",
      "d3m.primitives.jhu_primitives.LinkPredictionRankClassifier: Primitive is not providing a description through its docstring.\n"
     ]
    }
   ],
   "source": [
    "import numpy as np\n",
    "\n",
    "import d3m\n",
    "from d3m.container import pandas as pd\n",
    "from d3m.container.dataset import D3MDatasetLoader\n",
    "from d3m.metadata import hyperparams\n",
    "import d3m.container\n",
    "\n",
    "import os\n",
    "\n",
    "from jhu_primitives.utils import file_path_conversion\n",
    "from jhu_primitives.utils.util import data_file_uri\n",
    "\n",
    "from sklearn.decomposition import TruncatedSVD as tSVD\n",
    "\n",
    "import jhu_primitives as jhu\n",
    "\n",
    "from jhu_primitives.utils import file_path_conversion\n",
    "from jhu_primitives.utils.util import data_file_uri\n",
    "\n",
    "from sklearn.decomposition import TruncatedSVD as tSVD\n",
    "import networkx as nx\n",
    "\n",
    "# abs_file_path = os.path.abspath(os.getcwd())\n",
    "\n",
    "# dataset_uri_TRUTH = data_file_uri(abs_file_path, uri = \"file\", datasetDoc = True, dataset_type = \"\")\n",
    "# data_TRUTH = D3MDatasetLoader().load(dataset_uri = dataset_uri_TRUTH)\n",
    "\n",
    "# dataset_uri_TRAIN = data_file_uri(abs_file_path, uri = \"file\", datasetDoc = True, dataset_type = \"TRAIN\")\n",
    "# data_TRAIN = D3MDatasetLoader().load(dataset_uri = dataset_uri_TRAIN)\n",
    "\n",
    "# dataset_uri_TEST = data_file_uri(abs_file_path, uri = \"file\", datasetDoc = True, dataset_type = \"TEST\")\n",
    "# data_TEST = D3MDatasetLoader().load(dataset_uri = dataset_uri_TEST)\n",
    "\n",
    "# pickle.dump(data_TRUTH, open('umls_truth.pkl', 'wb'))\n",
    "# pickle.dump(data_TRAIN, open('umls_train.pkl', 'wb'))\n",
    "# pickle.dump(data_TEST, open('umls_test.pkl', 'wb'))\n",
    "\n",
    "import _pickle as pickle\n",
    "\n",
    "truth = pickle.load(open('umls_truth.pkl', 'rb'))\n",
    "train = pickle.load(open('umls_train.pkl', 'rb'))\n",
    "test = pickle.load(open('umls_test.pkl', 'rb'))\n",
    "\n",
    "# 59_umls"
   ]
  },
  {
   "cell_type": "code",
   "execution_count": 2,
   "metadata": {},
   "outputs": [],
   "source": [
    "# 59_umls LinkPrediction pipeline"
   ]
  },
  {
   "cell_type": "code",
   "execution_count": 3,
   "metadata": {},
   "outputs": [
    {
     "data": {
      "text/plain": [
       "0.702258726899384"
      ]
     },
     "execution_count": 3,
     "metadata": {},
     "output_type": "execute_result"
    }
   ],
   "source": [
    "hp_lpgr = jhu.link_pred_graph_reader.link_pred_graph_reader.Hyperparams().defaults()\n",
    "hp_ase = jhu.ase.ase.Hyperparams({'which_elbow': 1, 'max_dimension': 2, 'use_attributes': False})\n",
    "hp_lprc = jhu.link_pred_rc.link_pred_rc.Hyperparams().defaults()\n",
    "\n",
    "GR = jhu.LinkPredictionGraphReader(hyperparams=hp_lpgr)\n",
    "ASE = jhu.AdjacencySpectralEmbedding(hyperparams=hp_ase)\n",
    "RC = jhu.LinkPredictionRankClassifier(hyperparams = hp_lprc)\n",
    "\n",
    "gr_train = GR.produce(inputs = train).value\n",
    "ase_train = ASE.produce(inputs = gr_train).value\n",
    "RC.set_training_data(inputs = ase_train)\n",
    "RC.fit()\n",
    "\n",
    "gr_test = GR.produce(inputs = test).value\n",
    "ase_test = ASE.produce(inputs = gr_test).value\n",
    "predictions = RC.produce(inputs = ase_test).value\n",
    "\n",
    "truth_labels = np.array(truth['learningData']['linkExists'])[np.array(predictions['d3mIndex']).astype(int)]\n",
    "preds = np.array(predictions['linkExists'])\n",
    "np.sum(preds.astype(str) == truth_labels)/len(preds)"
   ]
  },
  {
   "cell_type": "code",
   "execution_count": null,
   "metadata": {},
   "outputs": [],
   "source": []
  },
  {
   "cell_type": "code",
   "execution_count": null,
   "metadata": {},
   "outputs": [],
   "source": []
  }
 ],
 "metadata": {
  "kernelspec": {
   "display_name": "Python 3",
   "language": "python",
   "name": "python3"
  },
  "language_info": {
   "codemirror_mode": {
    "name": "ipython",
    "version": 3
   },
   "file_extension": ".py",
   "mimetype": "text/x-python",
   "name": "python",
   "nbconvert_exporter": "python",
   "pygments_lexer": "ipython3",
   "version": "3.6.7"
  }
 },
 "nbformat": 4,
 "nbformat_minor": 2
}
