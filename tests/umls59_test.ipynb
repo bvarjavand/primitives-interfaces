{
 "cells": [
  {
   "cell_type": "code",
   "execution_count": 4,
   "metadata": {},
   "outputs": [],
   "source": [
    "import numpy as np\n",
    "\n",
    "import d3m\n",
    "from d3m.container import pandas as pd\n",
    "from d3m.container.dataset import D3MDatasetLoader\n",
    "from d3m.metadata import hyperparams\n",
    "import d3m.container\n",
    "\n",
    "import os\n",
    "\n",
    "from jhu_primitives.utils import file_path_conversion\n",
    "from jhu_primitives.utils.util import data_file_uri\n",
    "\n",
    "from sklearn.decomposition import TruncatedSVD as tSVD\n",
    "\n",
    "import jhu_primitives as jhu\n",
    "\n",
    "from jhu_primitives.utils import file_path_conversion\n",
    "from jhu_primitives.utils.util import data_file_uri\n",
    "\n",
    "from sklearn.decomposition import TruncatedSVD as tSVD\n",
    "import networkx as nx\n",
    "\n",
    "# abs_file_path = os.path.abspath(os.getcwd())\n",
    "\n",
    "# dataset_uri_TRUTH = data_file_uri(abs_file_path, uri = \"file\", datasetDoc = True, dataset_type = \"\")\n",
    "# data_TRUTH = D3MDatasetLoader().load(dataset_uri = dataset_uri_TRUTH)\n",
    "\n",
    "# dataset_uri_TRAIN = data_file_uri(abs_file_path, uri = \"file\", datasetDoc = True, dataset_type = \"TRAIN\")\n",
    "# data_TRAIN = D3MDatasetLoader().load(dataset_uri = dataset_uri_TRAIN)\n",
    "\n",
    "# dataset_uri_TEST = data_file_uri(abs_file_path, uri = \"file\", datasetDoc = True, dataset_type = \"TEST\")\n",
    "# data_TEST = D3MDatasetLoader().load(dataset_uri = dataset_uri_TEST)\n",
    "\n",
    "# pickle.dump(data_TRUTH, open('umls_truth.pkl', 'wb'))\n",
    "# pickle.dump(data_TRAIN, open('umls_train.pkl', 'wb'))\n",
    "# pickle.dump(data_TEST, open('umls_test.pkl', 'wb'))\n",
    "\n",
    "import _pickle as pickle\n",
    "\n",
    "truth = pickle.load(open('umls_truth.pkl', 'rb'))\n",
    "train = pickle.load(open('umls_train.pkl', 'rb'))\n",
    "test = pickle.load(open('umls_test.pkl', 'rb'))\n",
    "\n",
    "# 59_umls"
   ]
  },
  {
   "cell_type": "code",
   "execution_count": 5,
   "metadata": {},
   "outputs": [],
   "source": [
    "# 59_umls LinkPrediction pipeline"
   ]
  },
  {
   "cell_type": "code",
   "execution_count": 6,
   "metadata": {},
   "outputs": [
    {
     "ename": "KeyboardInterrupt",
     "evalue": "",
     "output_type": "error",
     "traceback": [
      "\u001b[0;31m---------------------------------------------------------------------------\u001b[0m",
      "\u001b[0;31mKeyboardInterrupt\u001b[0m                         Traceback (most recent call last)",
      "\u001b[0;32m<ipython-input-6-ade4591c5dc6>\u001b[0m in \u001b[0;36m<module>\u001b[0;34m\u001b[0m\n\u001b[1;32m      8\u001b[0m \u001b[0;34m\u001b[0m\u001b[0m\n\u001b[1;32m      9\u001b[0m \u001b[0mgr_train\u001b[0m \u001b[0;34m=\u001b[0m \u001b[0mGR\u001b[0m\u001b[0;34m.\u001b[0m\u001b[0mproduce\u001b[0m\u001b[0;34m(\u001b[0m\u001b[0minputs\u001b[0m \u001b[0;34m=\u001b[0m \u001b[0mtrain\u001b[0m\u001b[0;34m)\u001b[0m\u001b[0;34m.\u001b[0m\u001b[0mvalue\u001b[0m\u001b[0;34m\u001b[0m\u001b[0;34m\u001b[0m\u001b[0m\n\u001b[0;32m---> 10\u001b[0;31m \u001b[0mase_train\u001b[0m \u001b[0;34m=\u001b[0m \u001b[0mASE\u001b[0m\u001b[0;34m.\u001b[0m\u001b[0mproduce\u001b[0m\u001b[0;34m(\u001b[0m\u001b[0minputs\u001b[0m \u001b[0;34m=\u001b[0m \u001b[0mgr_train\u001b[0m\u001b[0;34m)\u001b[0m\u001b[0;34m.\u001b[0m\u001b[0mvalue\u001b[0m\u001b[0;34m\u001b[0m\u001b[0;34m\u001b[0m\u001b[0m\n\u001b[0m\u001b[1;32m     11\u001b[0m \u001b[0mRC\u001b[0m\u001b[0;34m.\u001b[0m\u001b[0mset_training_data\u001b[0m\u001b[0;34m(\u001b[0m\u001b[0minputs\u001b[0m \u001b[0;34m=\u001b[0m \u001b[0mase_train\u001b[0m\u001b[0;34m)\u001b[0m\u001b[0;34m\u001b[0m\u001b[0;34m\u001b[0m\u001b[0m\n\u001b[1;32m     12\u001b[0m \u001b[0mRC\u001b[0m\u001b[0;34m.\u001b[0m\u001b[0mfit\u001b[0m\u001b[0;34m(\u001b[0m\u001b[0;34m)\u001b[0m\u001b[0;34m\u001b[0m\u001b[0;34m\u001b[0m\u001b[0m\n",
      "\u001b[0;32m~/Desktop/d3m_root/primitives-interfaces-hh/jhu_primitives/ase/ase.py\u001b[0m in \u001b[0;36mproduce\u001b[0;34m(self, inputs, timeout, iterations)\u001b[0m\n\u001b[1;32m    198\u001b[0m \u001b[0;34m\u001b[0m\u001b[0m\n\u001b[1;32m    199\u001b[0m         \u001b[0mase_object\u001b[0m \u001b[0;34m=\u001b[0m \u001b[0mgraspyASE\u001b[0m\u001b[0;34m(\u001b[0m\u001b[0mn_components\u001b[0m\u001b[0;34m=\u001b[0m\u001b[0mmax_dimension\u001b[0m\u001b[0;34m,\u001b[0m \u001b[0mn_elbows\u001b[0m \u001b[0;34m=\u001b[0m \u001b[0mn_elbows\u001b[0m\u001b[0;34m)\u001b[0m\u001b[0;34m\u001b[0m\u001b[0;34m\u001b[0m\u001b[0m\n\u001b[0;32m--> 200\u001b[0;31m         \u001b[0mX_hat\u001b[0m \u001b[0;34m=\u001b[0m \u001b[0mase_object\u001b[0m\u001b[0;34m.\u001b[0m\u001b[0mfit_transform\u001b[0m\u001b[0;34m(\u001b[0m\u001b[0mg\u001b[0m\u001b[0;34m)\u001b[0m\u001b[0;34m\u001b[0m\u001b[0;34m\u001b[0m\u001b[0m\n\u001b[0m\u001b[1;32m    201\u001b[0m         \u001b[0;31m# tsvd = TruncatedSVD(n_components = max_dimension)\u001b[0m\u001b[0;34m\u001b[0m\u001b[0;34m\u001b[0m\u001b[0;34m\u001b[0m\u001b[0m\n\u001b[1;32m    202\u001b[0m         \u001b[0;31m# tsvd.fit(g)\u001b[0m\u001b[0;34m\u001b[0m\u001b[0;34m\u001b[0m\u001b[0;34m\u001b[0m\u001b[0m\n",
      "\u001b[0;32m~/virtualenvs/d3m/lib/python3.6/site-packages/graspy/embed/base.py\u001b[0m in \u001b[0;36mfit_transform\u001b[0;34m(self, graph, y)\u001b[0m\n\u001b[1;32m    161\u001b[0m             \u001b[0;32mfor\u001b[0m \u001b[0ma\u001b[0m \u001b[0mdirected\u001b[0m \u001b[0mgraph\u001b[0m\u001b[0;34m\u001b[0m\u001b[0;34m\u001b[0m\u001b[0m\n\u001b[1;32m    162\u001b[0m         \"\"\"\n\u001b[0;32m--> 163\u001b[0;31m         \u001b[0;32mreturn\u001b[0m \u001b[0mself\u001b[0m\u001b[0;34m.\u001b[0m\u001b[0m_fit_transform\u001b[0m\u001b[0;34m(\u001b[0m\u001b[0mgraph\u001b[0m\u001b[0;34m)\u001b[0m\u001b[0;34m\u001b[0m\u001b[0;34m\u001b[0m\u001b[0m\n\u001b[0m",
      "\u001b[0;32m~/virtualenvs/d3m/lib/python3.6/site-packages/graspy/embed/base.py\u001b[0m in \u001b[0;36m_fit_transform\u001b[0;34m(self, graph)\u001b[0m\n\u001b[1;32m    134\u001b[0m     \u001b[0;32mdef\u001b[0m \u001b[0m_fit_transform\u001b[0m\u001b[0;34m(\u001b[0m\u001b[0mself\u001b[0m\u001b[0;34m,\u001b[0m \u001b[0mgraph\u001b[0m\u001b[0;34m)\u001b[0m\u001b[0;34m:\u001b[0m\u001b[0;34m\u001b[0m\u001b[0;34m\u001b[0m\u001b[0m\n\u001b[1;32m    135\u001b[0m         \u001b[0;34m\"Fits the model and returns the estimated latent positions\"\u001b[0m\u001b[0;34m\u001b[0m\u001b[0;34m\u001b[0m\u001b[0m\n\u001b[0;32m--> 136\u001b[0;31m         \u001b[0mself\u001b[0m\u001b[0;34m.\u001b[0m\u001b[0mfit\u001b[0m\u001b[0;34m(\u001b[0m\u001b[0mgraph\u001b[0m\u001b[0;34m)\u001b[0m\u001b[0;34m\u001b[0m\u001b[0;34m\u001b[0m\u001b[0m\n\u001b[0m\u001b[1;32m    137\u001b[0m \u001b[0;34m\u001b[0m\u001b[0m\n\u001b[1;32m    138\u001b[0m         \u001b[0;32mif\u001b[0m \u001b[0mself\u001b[0m\u001b[0;34m.\u001b[0m\u001b[0mlatent_right_\u001b[0m \u001b[0;32mis\u001b[0m \u001b[0;32mNone\u001b[0m\u001b[0;34m:\u001b[0m\u001b[0;34m\u001b[0m\u001b[0;34m\u001b[0m\u001b[0m\n",
      "\u001b[0;32m~/virtualenvs/d3m/lib/python3.6/site-packages/graspy/embed/ase.py\u001b[0m in \u001b[0;36mfit\u001b[0;34m(self, graph, y)\u001b[0m\n\u001b[1;32m    114\u001b[0m \u001b[0;34m\u001b[0m\u001b[0m\n\u001b[1;32m    115\u001b[0m         \u001b[0;32mif\u001b[0m \u001b[0mself\u001b[0m\u001b[0;34m.\u001b[0m\u001b[0mcheck_lcc\u001b[0m\u001b[0;34m:\u001b[0m\u001b[0;34m\u001b[0m\u001b[0;34m\u001b[0m\u001b[0m\n\u001b[0;32m--> 116\u001b[0;31m             \u001b[0;32mif\u001b[0m \u001b[0;32mnot\u001b[0m \u001b[0mis_fully_connected\u001b[0m\u001b[0;34m(\u001b[0m\u001b[0mA\u001b[0m\u001b[0;34m)\u001b[0m\u001b[0;34m:\u001b[0m\u001b[0;34m\u001b[0m\u001b[0;34m\u001b[0m\u001b[0m\n\u001b[0m\u001b[1;32m    117\u001b[0m                 msg = (\n\u001b[1;32m    118\u001b[0m                     \u001b[0;34m\"Input graph is not fully connected. Results may not\"\u001b[0m\u001b[0;34m\u001b[0m\u001b[0;34m\u001b[0m\u001b[0m\n",
      "\u001b[0;32m~/virtualenvs/d3m/lib/python3.6/site-packages/graspy/utils/utils.py\u001b[0m in \u001b[0;36mis_fully_connected\u001b[0;34m(graph)\u001b[0m\n\u001b[1;32m    326\u001b[0m         \u001b[0;32melse\u001b[0m\u001b[0;34m:\u001b[0m\u001b[0;34m\u001b[0m\u001b[0;34m\u001b[0m\u001b[0m\n\u001b[1;32m    327\u001b[0m             \u001b[0mg_object\u001b[0m \u001b[0;34m=\u001b[0m \u001b[0mnx\u001b[0m\u001b[0;34m.\u001b[0m\u001b[0mDiGraph\u001b[0m\u001b[0;34m(\u001b[0m\u001b[0;34m)\u001b[0m\u001b[0;34m\u001b[0m\u001b[0;34m\u001b[0m\u001b[0m\n\u001b[0;32m--> 328\u001b[0;31m         \u001b[0mgraph\u001b[0m \u001b[0;34m=\u001b[0m \u001b[0mnx\u001b[0m\u001b[0;34m.\u001b[0m\u001b[0mfrom_numpy_array\u001b[0m\u001b[0;34m(\u001b[0m\u001b[0mgraph\u001b[0m\u001b[0;34m,\u001b[0m \u001b[0mcreate_using\u001b[0m\u001b[0;34m=\u001b[0m\u001b[0mg_object\u001b[0m\u001b[0;34m)\u001b[0m\u001b[0;34m\u001b[0m\u001b[0;34m\u001b[0m\u001b[0m\n\u001b[0m\u001b[1;32m    329\u001b[0m     \u001b[0;32mif\u001b[0m \u001b[0mtype\u001b[0m\u001b[0;34m(\u001b[0m\u001b[0mgraph\u001b[0m\u001b[0;34m)\u001b[0m \u001b[0;32min\u001b[0m \u001b[0;34m[\u001b[0m\u001b[0mnx\u001b[0m\u001b[0;34m.\u001b[0m\u001b[0mGraph\u001b[0m\u001b[0;34m,\u001b[0m \u001b[0mnx\u001b[0m\u001b[0;34m.\u001b[0m\u001b[0mMultiGraph\u001b[0m\u001b[0;34m]\u001b[0m\u001b[0;34m:\u001b[0m\u001b[0;34m\u001b[0m\u001b[0;34m\u001b[0m\u001b[0m\n\u001b[1;32m    330\u001b[0m         \u001b[0;32mreturn\u001b[0m \u001b[0mnx\u001b[0m\u001b[0;34m.\u001b[0m\u001b[0mis_connected\u001b[0m\u001b[0;34m(\u001b[0m\u001b[0mgraph\u001b[0m\u001b[0;34m)\u001b[0m\u001b[0;34m\u001b[0m\u001b[0;34m\u001b[0m\u001b[0m\n",
      "\u001b[0;32m~/virtualenvs/d3m/lib/python3.6/site-packages/networkx/convert_matrix.py\u001b[0m in \u001b[0;36mfrom_numpy_array\u001b[0;34m(A, parallel_edges, create_using)\u001b[0m\n\u001b[1;32m   1225\u001b[0m     \"\"\"\n\u001b[1;32m   1226\u001b[0m     return from_numpy_matrix(A, parallel_edges=parallel_edges,\n\u001b[0;32m-> 1227\u001b[0;31m                              create_using=create_using)\n\u001b[0m\u001b[1;32m   1228\u001b[0m \u001b[0;34m\u001b[0m\u001b[0m\n\u001b[1;32m   1229\u001b[0m \u001b[0;34m\u001b[0m\u001b[0m\n",
      "\u001b[0;32m~/virtualenvs/d3m/lib/python3.6/site-packages/networkx/convert_matrix.py\u001b[0m in \u001b[0;36mfrom_numpy_matrix\u001b[0;34m(A, parallel_edges, create_using)\u001b[0m\n\u001b[1;32m    563\u001b[0m     \u001b[0;31m# coordinates will become the edges in the graph.\u001b[0m\u001b[0;34m\u001b[0m\u001b[0;34m\u001b[0m\u001b[0;34m\u001b[0m\u001b[0m\n\u001b[1;32m    564\u001b[0m     edges = map(lambda e: (int(e[0]), int(e[1])),\n\u001b[0;32m--> 565\u001b[0;31m                 zip(*(np.asarray(A).nonzero())))\n\u001b[0m\u001b[1;32m    566\u001b[0m     \u001b[0;31m# handle numpy constructed data type\u001b[0m\u001b[0;34m\u001b[0m\u001b[0;34m\u001b[0m\u001b[0;34m\u001b[0m\u001b[0m\n\u001b[1;32m    567\u001b[0m     \u001b[0;32mif\u001b[0m \u001b[0mpython_type\u001b[0m \u001b[0;32mis\u001b[0m \u001b[0;34m'void'\u001b[0m\u001b[0;34m:\u001b[0m\u001b[0;34m\u001b[0m\u001b[0;34m\u001b[0m\u001b[0m\n",
      "\u001b[0;31mKeyboardInterrupt\u001b[0m: "
     ]
    }
   ],
   "source": [
    "hp_lpgr = jhu.link_pred_graph_reader.link_pred_graph_reader.Hyperparams().defaults()\n",
    "hp_ase = jhu.ase.ase.Hyperparams({'which_elbow': 1, 'max_dimension': 2, 'use_attributes': False})\n",
    "hp_lprc = jhu.link_pred_rc.link_pred_rc.Hyperparams().defaults()\n",
    "\n",
    "GR = jhu.LinkPredictionGraphReader(hyperparams=hp_lpgr)\n",
    "ASE = jhu.AdjacencySpectralEmbedding(hyperparams=hp_ase)\n",
    "RC = jhu.LinkPredictionRankClassifier(hyperparams = hp_lprc)\n",
    "\n",
    "gr_train = GR.produce(inputs = train).value\n",
    "ase_train = ASE.produce(inputs = gr_train).value\n",
    "RC.set_training_data(inputs = ase_train)\n",
    "RC.fit()\n",
    "\n",
    "gr_test = GR.produce(inputs = test).value\n",
    "ase_test = ASE.produce(inputs = gr_test).value\n",
    "predictions = RC.produce(inputs = ase_test).value\n",
    "\n",
    "truth_labels = np.array(truth['learningData']['linkExists'])[np.array(predictions['d3mIndex']).astype(int)]\n",
    "preds = np.array(predictions['linkExists'])\n",
    "np.sum(preds.astype(str) == truth_labels)/len(preds)"
   ]
  },
  {
   "cell_type": "code",
   "execution_count": null,
   "metadata": {},
   "outputs": [],
   "source": []
  }
 ],
 "metadata": {
  "kernelspec": {
   "display_name": "d3m",
   "language": "python",
   "name": "d3m"
  },
  "language_info": {
   "codemirror_mode": {
    "name": "ipython",
    "version": 3
   },
   "file_extension": ".py",
   "mimetype": "text/x-python",
   "name": "python",
   "nbconvert_exporter": "python",
   "pygments_lexer": "ipython3",
   "version": "3.6.7"
  }
 },
 "nbformat": 4,
 "nbformat_minor": 2
}
