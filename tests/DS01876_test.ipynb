{
 "cells": [
  {
   "cell_type": "code",
   "execution_count": 2,
   "metadata": {},
   "outputs": [],
   "source": [
    "import numpy as np\n",
    "import pandas as pd\n",
    "import networkx as nx\n",
    "\n",
    "import d3m\n",
    "#from d3m.container import pandas as pd\n",
    "from d3m.container.dataset import D3MDatasetLoader\n",
    "from d3m.metadata import hyperparams\n",
    "\n",
    "import os\n",
    "\n",
    "import jhu_primitives as jhu\n",
    "from jhu_primitives.utils import file_path_conversion\n",
    "from jhu_primitives.utils.util import data_file_uri\n",
    "\n",
    "# abs_file_path = os.path.abspath(os.getcwd())\n",
    "\n",
    "# dataset_uri_TRUTH = data_file_uri(abs_file_path, uri = \"file\", datasetDoc = True, dataset_type = \"\")\n",
    "# data_TRUTH = D3MDatasetLoader().load(dataset_uri = dataset_uri_TRUTH)\n",
    "\n",
    "# dataset_uri_TRAIN = data_file_uri(abs_file_path, uri = \"file\", datasetDoc = True, dataset_type = \"TRAIN\")\n",
    "# data_TRAIN = D3MDatasetLoader().load(dataset_uri = dataset_uri_TRAIN)\n",
    "\n",
    "# dataset_uri_TEST = data_file_uri(abs_file_path, uri = \"file\", datasetDoc = True, dataset_type = \"TEST\")\n",
    "# data_TEST = D3MDatasetLoader().load(dataset_uri = dataset_uri_TEST)\n",
    "\n",
    "## DS01876"
   ]
  },
  {
   "cell_type": "code",
   "execution_count": 5,
   "metadata": {},
   "outputs": [],
   "source": [
    "import _pickle as pickle\n",
    "\n",
    "# pickle.dump(data_TRUTH, open('DS_truth.pkl', 'wb'))\n",
    "# pickle.dump(data_TRAIN, open('DS_train.pkl', 'wb'))\n",
    "# pickle.dump(data_TEST, open('DS_test.pkl', 'wb'))\n",
    "\n",
    "truth = pickle.load(open('DS_truth.pkl', 'rb'))\n",
    "train = pickle.load(open('DS_train.pkl', 'rb'))\n",
    "test = pickle.load(open('DS_test.pkl', 'rb'))"
   ]
  },
  {
   "cell_type": "code",
   "execution_count": null,
   "metadata": {},
   "outputs": [],
   "source": [
    "# ASE"
   ]
  },
  {
   "cell_type": "code",
   "execution_count": null,
   "metadata": {},
   "outputs": [],
   "source": [
    "hp_lcc = jhu.lcc.lcc.Hyperparams().defaults\n",
    "hp_ase = jhu.ase.ase.Hyperparams({'use_attributes': True, 'max_dimension': 5, 'which_elbow': 1})\n",
    "hp_gmm = jhu.gclust.gclust.Hyperparams({'max_clusters': 10})\n",
    "\n",
    "# Initialize\n",
    "LCC = jhu.LargestConnectedComponent(hyperparams=hp_lcc)\n",
    "ASE = jhu.AdjacencySpectralEmbedding(hyperparams=hp_ase)\n",
    "GMM = jhu.GaussianClustering(hyperparams=hp_gmm)\n",
    "\n",
    "# Train\n",
    "lcc_train = LCC.produce(inputs = train).value\n",
    "ase_train = ASE.produce(inputs = lcc_train).value\n",
    "GMM.set_training_data(inputs = ase_train)\n",
    "GMM.fit()\n",
    "\n",
    "# Test\n",
    "lcc_test = LCC.produce(inputs = test).value\n",
    "ase_test = ASE.produce(inputs = lcc_test).value\n",
    "predictions = GMM.produce(inputs = ase_test).value\n",
    "\n",
    "truth_labels = np.array(truth['learningData']['classLabel'])[np.array(predictions['d3mIndex']).astype(int) - 1]\n",
    "preds = np.array(predictions['classLabel'])\n",
    "np.sum(preds.astype(str) == truth_labels)/len(preds)"
   ]
  },
  {
   "cell_type": "code",
   "execution_count": null,
   "metadata": {},
   "outputs": [],
   "source": [
    "# LSE"
   ]
  },
  {
   "cell_type": "code",
   "execution_count": 24,
   "metadata": {},
   "outputs": [
    {
     "data": {
      "text/plain": [
       "0.01137009664582149"
      ]
     },
     "execution_count": 24,
     "metadata": {},
     "output_type": "execute_result"
    }
   ],
   "source": [
    "hp_lcc = jhu.lcc.lcc.Hyperparams().defaults\n",
    "hp_lse = jhu.lse.lse.Hyperparams({'use_attributes': True, 'max_dimension': 5, 'which_elbow': 1})\n",
    "hp_gmm = jhu.gclust.gclust.Hyperparams({'max_clusters': 10})\n",
    "\n",
    "# Initialize\n",
    "LCC = jhu.LargestConnectedComponent(hyperparams=hp_lcc)\n",
    "LSE = jhu.LaplacianSpectralEmbedding(hyperparams=hp_lse)\n",
    "GMM = jhu.GaussianClustering(hyperparams=hp_gmm)\n",
    "\n",
    "# Train\n",
    "lcc_train = LCC.produce(inputs = train).value\n",
    "lse_train = LSE.produce(inputs = lcc_train).value\n",
    "GMM.set_training_data(inputs = ase_train)\n",
    "GMM.fit()\n",
    "\n",
    "# Test\n",
    "lcc_test = LCC.produce(inputs = test).value\n",
    "lse_test = LSE.produce(inputs = lcc_test).value\n",
    "predictions = GMM.produce(inputs = lse_test).value\n",
    "\n",
    "truth_labels = np.array(truth['learningData']['classLabel'])[np.array(predictions['d3mIndex']).astype(int) - 1]\n",
    "preds = np.array(predictions['classLabel'])\n",
    "np.sum(preds.astype(str) == truth_labels)/len(preds)"
   ]
  },
  {
   "cell_type": "code",
   "execution_count": 25,
   "metadata": {},
   "outputs": [],
   "source": [
    "# SGC"
   ]
  },
  {
   "cell_type": "code",
   "execution_count": 27,
   "metadata": {},
   "outputs": [
    {
     "data": {
      "text/plain": [
       "0.050028425241614556"
      ]
     },
     "execution_count": 27,
     "metadata": {},
     "output_type": "execute_result"
    }
   ],
   "source": [
    "hp_sgc = jhu.sgc.sgc.Hyperparams().defaults()\n",
    "\n",
    "SGC = jhu.SpectralGraphClustering(hyperparams=hp_sgc)\n",
    "\n",
    "SGC.set_training_data(inputs = train)\n",
    "SGC.fit()\n",
    "predictions = SGC.produce(inputs = test).value\n",
    "\n",
    "truth_labels = np.array(truth['learningData']['classLabel'])[np.array(predictions['d3mIndex']).astype(int) - 1]\n",
    "preds = np.array(predictions['classLabel'])\n",
    "np.sum(preds.astype(str) == truth_labels)/len(preds)"
   ]
  }
 ],
 "metadata": {
  "kernelspec": {
   "display_name": "Python 3",
   "language": "python",
   "name": "python3"
  },
  "language_info": {
   "codemirror_mode": {
    "name": "ipython",
    "version": 3
   },
   "file_extension": ".py",
   "mimetype": "text/x-python",
   "name": "python",
   "nbconvert_exporter": "python",
   "pygments_lexer": "ipython3",
   "version": "3.6.7"
  }
 },
 "nbformat": 4,
 "nbformat_minor": 2
}
