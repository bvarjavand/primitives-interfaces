{
 "cells": [
  {
   "cell_type": "code",
   "execution_count": 28,
   "metadata": {
    "scrolled": true
   },
   "outputs": [],
   "source": [
    "import numpy as np\n",
    "import pandas as pd\n",
    "import networkx as nx\n",
    "\n",
    "import d3m\n",
    "#from d3m.container import pandas as pd\n",
    "from d3m.container.dataset import D3MDatasetLoader\n",
    "from d3m.metadata import hyperparams\n",
    "\n",
    "import os\n",
    "\n",
    "import jhu_primitives as jhu\n",
    "from jhu_primitives.utils import file_path_conversion\n",
    "from jhu_primitives.utils.util import data_file_uri\n",
    "\n",
    "abs_file_path = os.path.abspath(os.getcwd())\n",
    "\n",
    "# dataset_uri_TRUTH = data_file_uri(abs_file_path, uri = \"file\", datasetDoc = True, dataset_type = \"\")\n",
    "# data_TRUTH = D3MDatasetLoader().load(dataset_uri = dataset_uri_TRUTH)\n",
    "\n",
    "# dataset_uri_TRAIN = data_file_uri(abs_file_path, uri = \"file\", datasetDoc = True, dataset_type = \"TRAIN\")\n",
    "# data_TRAIN = D3MDatasetLoader().load(dataset_uri = dataset_uri_TRAIN)\n",
    "\n",
    "# dataset_uri_TEST = data_file_uri(abs_file_path, uri = \"file\", datasetDoc = True, dataset_type = \"TEST\")\n",
    "# data_TEST = D3MDatasetLoader().load(dataset_uri = dataset_uri_TEST)"
   ]
  },
  {
   "cell_type": "code",
   "execution_count": 29,
   "metadata": {},
   "outputs": [],
   "source": [
    "import _pickle as pickle\n",
    "\n",
    "# pickle.dump(data_TRUTH, open('49_truth.pkl', 'wb'))\n",
    "# pickle.dump(data_TRAIN, open('49_train.pkl', 'wb'))\n",
    "# pickle.dump(data_TEST, open('49_test.pkl', 'wb'))\n",
    "\n",
    "truth = pickle.load(open('49_truth.pkl', 'rb'))\n",
    "train = pickle.load(open('49_train.pkl', 'rb'))\n",
    "test = pickle.load(open('49_test.pkl', 'rb'))"
   ]
  },
  {
   "cell_type": "code",
   "execution_count": 30,
   "metadata": {},
   "outputs": [
    {
     "data": {
      "text/plain": [
       "0.8816225165562914"
      ]
     },
     "execution_count": 30,
     "metadata": {},
     "output_type": "execute_result"
    }
   ],
   "source": [
    "hp_sgm = jhu.sgm.sgm.Hyperparams().defaults()\n",
    "SGM = jhu.SeededGraphMatching(hyperparams=hp_sgm)\n",
    "\n",
    "SGM.set_training_data(inputs = train)\n",
    "SGM.fit()\n",
    "predictions = SGM.produce(inputs = test).value\n",
    "\n",
    "truth_labels = np.array(truth['learningData']['match'])[np.array(predictions['d3mIndex']).astype(int)]\n",
    "preds = np.array(predictions['match']).astype(str) \n",
    "np.sum(preds == truth_labels)/len(preds)"
   ]
  }
 ],
 "metadata": {
  "kernelspec": {
   "display_name": "Python 3",
   "language": "python",
   "name": "python3"
  },
  "language_info": {
   "codemirror_mode": {
    "name": "ipython",
    "version": 3
   },
   "file_extension": ".py",
   "mimetype": "text/x-python",
   "name": "python",
   "nbconvert_exporter": "python",
   "pygments_lexer": "ipython3",
   "version": "3.6.7"
  }
 },
 "nbformat": 4,
 "nbformat_minor": 2
}
