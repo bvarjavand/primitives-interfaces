{
 "cells": [
  {
   "cell_type": "code",
   "execution_count": 1,
   "metadata": {},
   "outputs": [
    {
     "name": "stdout",
     "output_type": "stream",
     "text": [
      "Populating the interactive namespace from numpy and matplotlib\n"
     ]
    }
   ],
   "source": [
    "%pylab inline"
   ]
  },
  {
   "cell_type": "code",
   "execution_count": 2,
   "metadata": {},
   "outputs": [],
   "source": [
    "import jhu_primitives as jhu\n",
    "import networkx as nx"
   ]
  },
  {
   "cell_type": "code",
   "execution_count": 3,
   "metadata": {
    "collapsed": true
   },
   "outputs": [],
   "source": [
    "G = nx.readwrite.gml.read_gml('G1.gml', label = 'id')"
   ]
  },
  {
   "cell_type": "code",
   "execution_count": 4,
   "metadata": {
    "collapsed": true
   },
   "outputs": [],
   "source": [
    "gs = G.subgraph(arange(20)).copy()\n",
    "g = nx.to_numpy_array(G)"
   ]
  },
  {
   "cell_type": "code",
   "execution_count": 5,
   "metadata": {
    "collapsed": true
   },
   "outputs": [],
   "source": [
    "hp_lcc = jhu.lcc.lcc.Hyperparams.defaults()\n",
    "lcc = jhu.LargestConnectedComponent(hyperparams = hp_lcc).produce(inputs = gs).value"
   ]
  },
  {
   "cell_type": "code",
   "execution_count": 6,
   "metadata": {},
   "outputs": [
    {
     "name": "stdout",
     "output_type": "stream",
     "text": [
      "C:/Users/Hayden/Desktop/Research/d3m/primitives-interfaces/jhu_primitives/ase/ase.interface.R\n"
     ]
    }
   ],
   "source": [
    "hp_ase = jhu.ase.ase.Hyperparams({'embedding_dimension': 16})\n",
    "vectors, values = jhu.AdjacencySpectralEmbedding(hyperparams = hp_ase).produce(inputs = lcc).value\n",
    "values = values**(1/2)"
   ]
  },
  {
   "cell_type": "code",
   "execution_count": 7,
   "metadata": {},
   "outputs": [
    {
     "name": "stdout",
     "output_type": "stream",
     "text": [
      "<class 'd3m.container.numpy.ndarray'>\n"
     ]
    }
   ],
   "source": [
    "hp_ds = jhu.dimselect.dimselect.Hyperparams({'n_elbows': 20, 'error_threshold': 0})\n",
    "ds = jhu.DimensionSelection(hyperparams = hp_ds).produce(inputs = values).value"
   ]
  },
  {
   "cell_type": "code",
   "execution_count": 10,
   "metadata": {},
   "outputs": [],
   "source": [
    "hp_numclust = jhu.numclust.numclust.Hyperparams({'max_clusters': 10})\n",
    "nc = jhu.NumberOfClusters(hyperparams = hp_numclust).produce(inputs = vectors[:, :int(ds[1])]).value"
   ]
  },
  {
   "cell_type": "code",
   "execution_count": 12,
   "metadata": {},
   "outputs": [
    {
     "data": {
      "text/plain": [
       "[['Ranked number of clusters (BIC)', 1, 2, 4, 3, 5, 6, 9, 7, 10, 8],\n",
       " ['Ranked number of clusters (AIC)', 1, 2, 4, 3, 5, 6, 7, 8, 9, 10],\n",
       " [('number of clusters', 'BIC', 'AIC'),\n",
       "  (1, 1204.9327701470631, 1156.8526952206703),\n",
       "  (2, 1158.2920224999261, 1101.3082299945715),\n",
       "  (3, 1034.2993448888371, 968.4118348045209),\n",
       "  (4, 1062.4161463411888, 987.6249186779111),\n",
       "  (5, 818.2243832727602, 734.5294380305207),\n",
       "  (6, 725.3277334819535, 632.7290706607523),\n",
       "  (7, 583.1903811353674, 481.68800073520464),\n",
       "  (8, 493.0434154277623, 361.42106038021615),\n",
       "  (9, 615.5000202271908, 216.6312346415134),\n",
       "  (10, 557.8187574629039, 127.60078413854524)]]"
      ]
     },
     "execution_count": 12,
     "metadata": {},
     "output_type": "execute_result"
    }
   ],
   "source": []
  },
  {
   "cell_type": "code",
   "execution_count": 13,
   "metadata": {},
   "outputs": [
    {
     "data": {
      "text/plain": [
       "ndarray([ 5,  9, 12, 13, 14, 15])"
      ]
     },
     "execution_count": 13,
     "metadata": {},
     "output_type": "execute_result"
    }
   ],
   "source": [
    "ds"
   ]
  },
  {
   "cell_type": "code",
   "execution_count": null,
   "metadata": {
    "collapsed": true
   },
   "outputs": [],
   "source": []
  }
 ],
 "metadata": {
  "kernelspec": {
   "display_name": "Python 3",
   "language": "python",
   "name": "python3"
  },
  "language_info": {
   "codemirror_mode": {
    "name": "ipython",
    "version": 3
   },
   "file_extension": ".py",
   "mimetype": "text/x-python",
   "name": "python",
   "nbconvert_exporter": "python",
   "pygments_lexer": "ipython3",
   "version": "3.6.1"
  }
 },
 "nbformat": 4,
 "nbformat_minor": 2
}
