{
 "cells": [
  {
   "cell_type": "code",
   "execution_count": 1,
   "metadata": {},
   "outputs": [
    {
     "name": "stdout",
     "output_type": "stream",
     "text": [
      "Populating the interactive namespace from numpy and matplotlib\n"
     ]
    }
   ],
   "source": [
    "%pylab inline"
   ]
  },
  {
   "cell_type": "code",
   "execution_count": 2,
   "metadata": {},
   "outputs": [],
   "source": [
    "import jhu_primitives as jhu\n",
    "import networkx as nx"
   ]
  },
  {
   "cell_type": "code",
   "execution_count": 3,
   "metadata": {
    "collapsed": true
   },
   "outputs": [],
   "source": [
    "G = nx.readwrite.gml.read_gml('G1.gml', label = 'id')"
   ]
  },
  {
   "cell_type": "code",
   "execution_count": 4,
   "metadata": {
    "collapsed": true
   },
   "outputs": [],
   "source": [
    "gs = G.subgraph(arange(20)).copy()\n",
    "g = nx.to_numpy_array(G)"
   ]
  },
  {
   "cell_type": "code",
   "execution_count": 5,
   "metadata": {
    "collapsed": true
   },
   "outputs": [],
   "source": [
    "hp_lcc = jhu.lcc.lcc.Hyperparams.defaults()\n",
    "lcc = jhu.LargestConnectedComponent(hyperparams = hp_lcc).produce(inputs = gs).value"
   ]
  },
  {
   "cell_type": "code",
   "execution_count": 6,
   "metadata": {
    "collapsed": true
   },
   "outputs": [],
   "source": [
    "hp_ase = jhu.ase.ase.Hyperparams({'embedding_dimension': 16})\n",
    "vectors, values = jhu.AdjacencySpectralEmbedding(hyperparams = hp_ase).produce(inputs = lcc).value\n",
    "values = values**(1/2)"
   ]
  },
  {
   "cell_type": "code",
   "execution_count": 7,
   "metadata": {},
   "outputs": [
    {
     "name": "stdout",
     "output_type": "stream",
     "text": [
      "<class 'd3m.container.numpy.ndarray'>\n"
     ]
    }
   ],
   "source": [
    "hp_ds = jhu.dimselect.dimselect.Hyperparams({'n_elbows': 20, 'error_threshold': 0})\n",
    "ds = jhu.DimensionSelection(hyperparams = hp_ds).produce(inputs = values).value\n",
    "inputs = vectors[:, :int(ds[1])]"
   ]
  },
  {
   "cell_type": "code",
   "execution_count": 8,
   "metadata": {},
   "outputs": [
    {
     "name": "stdout",
     "output_type": "stream",
     "text": [
      "(2, 9, 9) <class 'numpy.ndarray'>\n",
      "[0. 0. 1. 1. 0. 0. 0. 0. 0. 0. 0. 0. 0. 0. 0. 0. 0. 0.]\n",
      "supervised return\n"
     ]
    }
   ],
   "source": [
    "hp_gclass = jhu.gclass.gclass.Hyperparams({'number_of_clusters': 2, 'labels': np.array([1,1,2,2]), 'seeds': np.array([0,1,2,3])})\n",
    "gclassification = jhu.GaussianClassification(hyperparams = hp_gclass).produce(inputs = inputs).value"
   ]
  },
  {
   "cell_type": "code",
   "execution_count": 9,
   "metadata": {},
   "outputs": [
    {
     "name": "stdout",
     "output_type": "stream",
     "text": [
      "return\n"
     ]
    },
    {
     "data": {
      "text/plain": [
       "ndarray([0, 0, 0, 0, 0, 0, 0, 0, 0, 0, 0, 0, 0, 0, 0, 0, 0, 0],\n",
       "        dtype=int64)"
      ]
     },
     "execution_count": 9,
     "metadata": {},
     "output_type": "execute_result"
    }
   ],
   "source": [
    "hp_gclust = jhu.gclust.gclust.Hyperparams({'max_clusters': 10})\n",
    "gclust = jhu.GaussianClustering(hyperparams = hp_gclust).produce(inputs = inputs).value\n",
    "gclust"
   ]
  },
  {
   "cell_type": "code",
   "execution_count": null,
   "metadata": {
    "collapsed": true
   },
   "outputs": [],
   "source": []
  },
  {
   "cell_type": "code",
   "execution_count": 10,
   "metadata": {},
   "outputs": [
    {
     "data": {
      "text/plain": [
       "[['Ranked number of clusters (BIC)', 1, 2, 3, 4, 5, 6, 9, 7, 10, 8],\n",
       " ['Ranked number of clusters (AIC)', 1, 2, 3, 4, 5, 6, 7, 8, 9, 10],\n",
       " [('number of clusters', 'BIC', 'AIC'),\n",
       "  (1, 1204.9327701470631, 1156.8526952206703),\n",
       "  (2, 1175.7194596959166, 1117.8674730367677),\n",
       "  (3, 1042.91896284023, 977.031452755914),\n",
       "  (4, 984.5953922386045, 909.8041645753267),\n",
       "  (5, 854.1996494501708, 734.529438030524),\n",
       "  (6, 698.4723583029438, 605.8736954817426),\n",
       "  (7, 583.1903811353649, 481.6880007352021),\n",
       "  (8, 493.0434154277623, 361.4210603807329),\n",
       "  (9, 615.5000202271908, 216.6312346429802),\n",
       "  (10, 557.8187574629039, 69.00466237790965)]]"
      ]
     },
     "execution_count": 10,
     "metadata": {},
     "output_type": "execute_result"
    }
   ],
   "source": [
    "hp_numclust = jhu.numclust.numclust.Hyperparams({'max_clusters': 10})\n",
    "nc = jhu.NumberOfClusters(hyperparams = hp_numclust).produce(inputs = vectors[:, :int(ds[1])]).value\n",
    "nc"
   ]
  },
  {
   "cell_type": "code",
   "execution_count": 11,
   "metadata": {},
   "outputs": [],
   "source": [
    "hp_lse = jhu.ase.ase.Hyperparams({'embedding_dimension': 16})\n",
    "vectors1, values1 = jhu.LaplacianSpectralEmbedding(hyperparams = hp_lse).produce(inputs = lcc).value\n",
    "values1 = values1**(1/2)"
   ]
  },
  {
   "cell_type": "code",
   "execution_count": 12,
   "metadata": {
    "collapsed": true
   },
   "outputs": [],
   "source": [
    "test = np.array([1,2,3,4,5,6])\n",
    "itemindex = np.where(test==1)"
   ]
  },
  {
   "cell_type": "code",
   "execution_count": 13,
   "metadata": {},
   "outputs": [
    {
     "data": {
      "text/plain": [
       "0"
      ]
     },
     "execution_count": 13,
     "metadata": {},
     "output_type": "execute_result"
    }
   ],
   "source": [
    "itemindex[0][0]"
   ]
  },
  {
   "cell_type": "code",
   "execution_count": null,
   "metadata": {
    "collapsed": true
   },
   "outputs": [],
   "source": []
  }
 ],
 "metadata": {
  "kernelspec": {
   "display_name": "Python 3",
   "language": "python",
   "name": "python3"
  },
  "language_info": {
   "codemirror_mode": {
    "name": "ipython",
    "version": 3
   },
   "file_extension": ".py",
   "mimetype": "text/x-python",
   "name": "python",
   "nbconvert_exporter": "python",
   "pygments_lexer": "ipython3",
   "version": "3.6.1"
  }
 },
 "nbformat": 4,
 "nbformat_minor": 2
}
