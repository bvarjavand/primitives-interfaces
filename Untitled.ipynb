{
 "cells": [
  {
   "cell_type": "code",
   "execution_count": 1,
   "metadata": {},
   "outputs": [
    {
     "name": "stdout",
     "output_type": "stream",
     "text": [
      "Populating the interactive namespace from numpy and matplotlib\n"
     ]
    }
   ],
   "source": [
    "%pylab inline"
   ]
  },
  {
   "cell_type": "code",
   "execution_count": 2,
   "metadata": {},
   "outputs": [],
   "source": [
    "import jhu_primitives as jhu\n",
    "import networkx as nx"
   ]
  },
  {
   "cell_type": "code",
   "execution_count": 3,
   "metadata": {
    "collapsed": true
   },
   "outputs": [],
   "source": [
    "G = nx.readwrite.gml.read_gml('G1.gml', label = 'id')"
   ]
  },
  {
   "cell_type": "code",
   "execution_count": 4,
   "metadata": {
    "collapsed": true
   },
   "outputs": [],
   "source": [
    "gs = G.subgraph(arange(20)).copy()\n",
    "g = nx.to_numpy_array(G)"
   ]
  },
  {
   "cell_type": "code",
   "execution_count": 5,
   "metadata": {
    "collapsed": true
   },
   "outputs": [],
   "source": [
    "hp_lcc = jhu.lcc.lcc.Hyperparams.defaults()\n",
    "lcc = jhu.LargestConnectedComponent(hyperparams = hp_lcc).produce(inputs = gs).value"
   ]
  },
  {
   "cell_type": "code",
   "execution_count": 6,
   "metadata": {},
   "outputs": [
    {
     "name": "stdout",
     "output_type": "stream",
     "text": [
      "C:/Users/Hayden/Desktop/Research/d3m/primitives-interfaces/jhu_primitives/ase/ase.interface.R\n"
     ]
    }
   ],
   "source": [
    "hp_ase = jhu.ase.ase.Hyperparams({'embedding_dimension': 16})\n",
    "vectors, values = jhu.AdjacencySpectralEmbedding(hyperparams = hp_ase).produce(inputs = lcc).value\n",
    "values = values**(1/2)"
   ]
  },
  {
   "cell_type": "code",
   "execution_count": 7,
   "metadata": {},
   "outputs": [
    {
     "name": "stdout",
     "output_type": "stream",
     "text": [
      "<class 'd3m.container.numpy.ndarray'>\n"
     ]
    }
   ],
   "source": [
    "hp_ds = jhu.dimselect.dimselect.Hyperparams({'n_elbows': 20, 'error_threshold': 0})\n",
    "ds = jhu.DimensionSelection(hyperparams = hp_ds).produce(inputs = values).value"
   ]
  },
  {
   "cell_type": "code",
   "execution_count": 8,
   "metadata": {},
   "outputs": [],
   "source": [
    "hp_numclust = jhu.numclust.numclust.Hyperparams({'max_clusters': 10})\n",
    "nc = jhu.NumberOfClusters(hyperparams = hp_numclust).produce(inputs = vectors[:, :int(ds[1])]).value"
   ]
  },
  {
   "cell_type": "code",
   "execution_count": 12,
   "metadata": {},
   "outputs": [],
   "source": [
    "hp_gclass = jhu.gclass.gclass.Hyperparams.defaults()\n",
    "gclassification = jhu.GaussianClustering(hyperparams = hp_gclass).produce(inputs = vectors[:, :int(ds[1])])"
   ]
  },
  {
   "cell_type": "code",
   "execution_count": 10,
   "metadata": {},
   "outputs": [
    {
     "data": {
      "text/plain": [
       "(18, 9)"
      ]
     },
     "execution_count": 10,
     "metadata": {},
     "output_type": "execute_result"
    }
   ],
   "source": [
    "vectors[:, :int(ds[1])].shape"
   ]
  },
  {
   "cell_type": "code",
   "execution_count": 11,
   "metadata": {},
   "outputs": [
    {
     "data": {
      "text/plain": [
       "Hyperparams({'number_of_clusters': 2, 'seeds': array([], dtype=float64), 'labels': array([], dtype=float64)})"
      ]
     },
     "execution_count": 11,
     "metadata": {},
     "output_type": "execute_result"
    }
   ],
   "source": [
    "hp_gclass"
   ]
  },
  {
   "cell_type": "code",
   "execution_count": 13,
   "metadata": {
    "collapsed": true
   },
   "outputs": [],
   "source": [
    "gclassification"
   ]
  },
  {
   "cell_type": "code",
   "execution_count": null,
   "metadata": {
    "collapsed": true
   },
   "outputs": [],
   "source": []
  }
 ],
 "metadata": {
  "kernelspec": {
   "display_name": "Python 3",
   "language": "python",
   "name": "python3"
  },
  "language_info": {
   "codemirror_mode": {
    "name": "ipython",
    "version": 3
   },
   "file_extension": ".py",
   "mimetype": "text/x-python",
   "name": "python",
   "nbconvert_exporter": "python",
   "pygments_lexer": "ipython3",
   "version": "3.6.1"
  }
 },
 "nbformat": 4,
 "nbformat_minor": 2
}
